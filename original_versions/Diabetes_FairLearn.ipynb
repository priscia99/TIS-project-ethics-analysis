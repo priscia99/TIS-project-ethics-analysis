{
  "cells": [
    {
      "cell_type": "code",
      "execution_count": 1,
      "id": "1edcbdf9",
      "metadata": {},
      "outputs": [
        {
          "data": {
            "text/html": [
              "        <script type=\"text/javascript\">\n",
              "        window.PlotlyConfig = {MathJaxConfig: 'local'};\n",
              "        if (window.MathJax && window.MathJax.Hub && window.MathJax.Hub.Config) {window.MathJax.Hub.Config({SVG: {font: \"STIX-Web\"}});}\n",
              "        if (typeof require !== 'undefined') {\n",
              "        require.undef(\"plotly\");\n",
              "        requirejs.config({\n",
              "            paths: {\n",
              "                'plotly': ['https://cdn.plot.ly/plotly-2.18.2.min']\n",
              "            }\n",
              "        });\n",
              "        require(['plotly'], function(Plotly) {\n",
              "            window._Plotly = Plotly;\n",
              "        });\n",
              "        }\n",
              "        </script>\n",
              "        "
            ]
          },
          "metadata": {},
          "output_type": "display_data"
        }
      ],
      "source": [
        "import pandas as pd\n",
        "from sklearn.metrics import recall_score, accuracy_score, precision_score\n",
        "from sklearn.tree import DecisionTreeClassifier\n",
        "from fairlearn.metrics import equalized_odds_difference, demographic_parity_difference\n",
        "from sklearn.model_selection import train_test_split\n",
        "import matplotlib.pyplot as plt\n",
        "plt.style.use(\"seaborn-v0_8\")\n",
        "\n",
        "import plotly.offline as py\n",
        "py.init_notebook_mode(connected=True)"
      ]
    },
    {
      "cell_type": "code",
      "execution_count": 2,
      "id": "2fd7765a",
      "metadata": {},
      "outputs": [
        {
          "data": {
            "text/html": [
              "<div>\n",
              "<style scoped>\n",
              "    .dataframe tbody tr th:only-of-type {\n",
              "        vertical-align: middle;\n",
              "    }\n",
              "\n",
              "    .dataframe tbody tr th {\n",
              "        vertical-align: top;\n",
              "    }\n",
              "\n",
              "    .dataframe thead th {\n",
              "        text-align: right;\n",
              "    }\n",
              "</style>\n",
              "<table border=\"1\" class=\"dataframe\">\n",
              "  <thead>\n",
              "    <tr style=\"text-align: right;\">\n",
              "      <th></th>\n",
              "      <th>Unnamed: 0</th>\n",
              "      <th>Pregnancies</th>\n",
              "      <th>Glucose</th>\n",
              "      <th>BloodPressure</th>\n",
              "      <th>SkinThickness</th>\n",
              "      <th>Insulin</th>\n",
              "      <th>BMI</th>\n",
              "      <th>DiabetesPedigreeFunction</th>\n",
              "      <th>Age</th>\n",
              "      <th>Outcome</th>\n",
              "      <th>AgeCategory</th>\n",
              "    </tr>\n",
              "  </thead>\n",
              "  <tbody>\n",
              "    <tr>\n",
              "      <th>0</th>\n",
              "      <td>0</td>\n",
              "      <td>6.0</td>\n",
              "      <td>148</td>\n",
              "      <td>72.0</td>\n",
              "      <td>35.0</td>\n",
              "      <td>30.5</td>\n",
              "      <td>33.6</td>\n",
              "      <td>0.627</td>\n",
              "      <td>50.0</td>\n",
              "      <td>1</td>\n",
              "      <td>1</td>\n",
              "    </tr>\n",
              "    <tr>\n",
              "      <th>1</th>\n",
              "      <td>1</td>\n",
              "      <td>1.0</td>\n",
              "      <td>85</td>\n",
              "      <td>66.0</td>\n",
              "      <td>29.0</td>\n",
              "      <td>30.5</td>\n",
              "      <td>26.6</td>\n",
              "      <td>0.351</td>\n",
              "      <td>31.0</td>\n",
              "      <td>0</td>\n",
              "      <td>1</td>\n",
              "    </tr>\n",
              "    <tr>\n",
              "      <th>2</th>\n",
              "      <td>2</td>\n",
              "      <td>8.0</td>\n",
              "      <td>183</td>\n",
              "      <td>64.0</td>\n",
              "      <td>23.0</td>\n",
              "      <td>30.5</td>\n",
              "      <td>23.3</td>\n",
              "      <td>0.672</td>\n",
              "      <td>32.0</td>\n",
              "      <td>1</td>\n",
              "      <td>1</td>\n",
              "    </tr>\n",
              "    <tr>\n",
              "      <th>3</th>\n",
              "      <td>3</td>\n",
              "      <td>1.0</td>\n",
              "      <td>89</td>\n",
              "      <td>66.0</td>\n",
              "      <td>23.0</td>\n",
              "      <td>94.0</td>\n",
              "      <td>28.1</td>\n",
              "      <td>0.167</td>\n",
              "      <td>21.0</td>\n",
              "      <td>0</td>\n",
              "      <td>0</td>\n",
              "    </tr>\n",
              "    <tr>\n",
              "      <th>4</th>\n",
              "      <td>4</td>\n",
              "      <td>0.0</td>\n",
              "      <td>137</td>\n",
              "      <td>40.0</td>\n",
              "      <td>35.0</td>\n",
              "      <td>168.0</td>\n",
              "      <td>43.1</td>\n",
              "      <td>0.374</td>\n",
              "      <td>33.0</td>\n",
              "      <td>1</td>\n",
              "      <td>1</td>\n",
              "    </tr>\n",
              "  </tbody>\n",
              "</table>\n",
              "</div>"
            ],
            "text/plain": [
              "   Unnamed: 0  Pregnancies  Glucose  BloodPressure  SkinThickness  Insulin  \\\n",
              "0           0          6.0      148           72.0           35.0     30.5   \n",
              "1           1          1.0       85           66.0           29.0     30.5   \n",
              "2           2          8.0      183           64.0           23.0     30.5   \n",
              "3           3          1.0       89           66.0           23.0     94.0   \n",
              "4           4          0.0      137           40.0           35.0    168.0   \n",
              "\n",
              "    BMI  DiabetesPedigreeFunction   Age  Outcome  AgeCategory  \n",
              "0  33.6                     0.627  50.0        1            1  \n",
              "1  26.6                     0.351  31.0        0            1  \n",
              "2  23.3                     0.672  32.0        1            1  \n",
              "3  28.1                     0.167  21.0        0            0  \n",
              "4  43.1                     0.374  33.0        1            1  "
            ]
          },
          "execution_count": 2,
          "metadata": {},
          "output_type": "execute_result"
        }
      ],
      "source": [
        "df=pd.read_csv(\"data/Diabetes_dataset.csv\")\n",
        "df.head(5)"
      ]
    },
    {
      "cell_type": "markdown",
      "id": "da9e4251",
      "metadata": {},
      "source": [
        "# Fairlearn"
      ]
    },
    {
      "cell_type": "raw",
      "id": "ce08e322",
      "metadata": {},
      "source": [
        "FairLearn is a system used in order to detect and mitigate a possible bias inside a dataset. It requires firstly the identification of the corresponding protected attribute(sex,race,age etc..) The protected attribute should be binary, otherwise we need to binarize the variable.\n",
        "In this case study the protected attribute(age) is numeric. So we need to binarize the variable: if the age is greater then 25 we identify a women as \"Adult\", otherwise \"Young\".\n"
      ]
    },
    {
      "cell_type": "code",
      "execution_count": 3,
      "id": "a31ec129",
      "metadata": {},
      "outputs": [],
      "source": [
        "def età(row):\n",
        "    if(row[\"Age\"]>25):\n",
        "        return 'Adult'\n",
        "    else:\n",
        "        return 'Young'"
      ]
    },
    {
      "cell_type": "code",
      "execution_count": 4,
      "id": "ca10a5d0",
      "metadata": {},
      "outputs": [],
      "source": [
        "df[\"AgeCategory\"]=df.apply(lambda row: età(row), axis=1)"
      ]
    },
    {
      "cell_type": "code",
      "execution_count": 5,
      "id": "b8bb7ead",
      "metadata": {},
      "outputs": [
        {
          "data": {
            "text/html": [
              "<div>\n",
              "<style scoped>\n",
              "    .dataframe tbody tr th:only-of-type {\n",
              "        vertical-align: middle;\n",
              "    }\n",
              "\n",
              "    .dataframe tbody tr th {\n",
              "        vertical-align: top;\n",
              "    }\n",
              "\n",
              "    .dataframe thead th {\n",
              "        text-align: right;\n",
              "    }\n",
              "</style>\n",
              "<table border=\"1\" class=\"dataframe\">\n",
              "  <thead>\n",
              "    <tr style=\"text-align: right;\">\n",
              "      <th></th>\n",
              "      <th>Unnamed: 0</th>\n",
              "      <th>Pregnancies</th>\n",
              "      <th>Glucose</th>\n",
              "      <th>BloodPressure</th>\n",
              "      <th>SkinThickness</th>\n",
              "      <th>Insulin</th>\n",
              "      <th>BMI</th>\n",
              "      <th>DiabetesPedigreeFunction</th>\n",
              "      <th>Age</th>\n",
              "      <th>Outcome</th>\n",
              "      <th>AgeCategory</th>\n",
              "    </tr>\n",
              "  </thead>\n",
              "  <tbody>\n",
              "    <tr>\n",
              "      <th>0</th>\n",
              "      <td>0</td>\n",
              "      <td>6.0</td>\n",
              "      <td>148</td>\n",
              "      <td>72.0</td>\n",
              "      <td>35.0</td>\n",
              "      <td>30.5</td>\n",
              "      <td>33.6</td>\n",
              "      <td>0.627</td>\n",
              "      <td>50.0</td>\n",
              "      <td>1</td>\n",
              "      <td>Adult</td>\n",
              "    </tr>\n",
              "    <tr>\n",
              "      <th>1</th>\n",
              "      <td>1</td>\n",
              "      <td>1.0</td>\n",
              "      <td>85</td>\n",
              "      <td>66.0</td>\n",
              "      <td>29.0</td>\n",
              "      <td>30.5</td>\n",
              "      <td>26.6</td>\n",
              "      <td>0.351</td>\n",
              "      <td>31.0</td>\n",
              "      <td>0</td>\n",
              "      <td>Adult</td>\n",
              "    </tr>\n",
              "    <tr>\n",
              "      <th>2</th>\n",
              "      <td>2</td>\n",
              "      <td>8.0</td>\n",
              "      <td>183</td>\n",
              "      <td>64.0</td>\n",
              "      <td>23.0</td>\n",
              "      <td>30.5</td>\n",
              "      <td>23.3</td>\n",
              "      <td>0.672</td>\n",
              "      <td>32.0</td>\n",
              "      <td>1</td>\n",
              "      <td>Adult</td>\n",
              "    </tr>\n",
              "    <tr>\n",
              "      <th>3</th>\n",
              "      <td>3</td>\n",
              "      <td>1.0</td>\n",
              "      <td>89</td>\n",
              "      <td>66.0</td>\n",
              "      <td>23.0</td>\n",
              "      <td>94.0</td>\n",
              "      <td>28.1</td>\n",
              "      <td>0.167</td>\n",
              "      <td>21.0</td>\n",
              "      <td>0</td>\n",
              "      <td>Young</td>\n",
              "    </tr>\n",
              "    <tr>\n",
              "      <th>4</th>\n",
              "      <td>4</td>\n",
              "      <td>0.0</td>\n",
              "      <td>137</td>\n",
              "      <td>40.0</td>\n",
              "      <td>35.0</td>\n",
              "      <td>168.0</td>\n",
              "      <td>43.1</td>\n",
              "      <td>0.374</td>\n",
              "      <td>33.0</td>\n",
              "      <td>1</td>\n",
              "      <td>Adult</td>\n",
              "    </tr>\n",
              "  </tbody>\n",
              "</table>\n",
              "</div>"
            ],
            "text/plain": [
              "   Unnamed: 0  Pregnancies  Glucose  BloodPressure  SkinThickness  Insulin  \\\n",
              "0           0          6.0      148           72.0           35.0     30.5   \n",
              "1           1          1.0       85           66.0           29.0     30.5   \n",
              "2           2          8.0      183           64.0           23.0     30.5   \n",
              "3           3          1.0       89           66.0           23.0     94.0   \n",
              "4           4          0.0      137           40.0           35.0    168.0   \n",
              "\n",
              "    BMI  DiabetesPedigreeFunction   Age  Outcome AgeCategory  \n",
              "0  33.6                     0.627  50.0        1       Adult  \n",
              "1  26.6                     0.351  31.0        0       Adult  \n",
              "2  23.3                     0.672  32.0        1       Adult  \n",
              "3  28.1                     0.167  21.0        0       Young  \n",
              "4  43.1                     0.374  33.0        1       Adult  "
            ]
          },
          "execution_count": 5,
          "metadata": {},
          "output_type": "execute_result"
        }
      ],
      "source": [
        "df.head()"
      ]
    },
    {
      "cell_type": "markdown",
      "id": "a100ce34",
      "metadata": {},
      "source": [
        "In order to use AIF360, we need first of all to convert all categorical variable into numerical variable. For this reason we replace Adult with number 1, and Young with number 0. "
      ]
    },
    {
      "cell_type": "code",
      "execution_count": 6,
      "id": "f0478bc4",
      "metadata": {},
      "outputs": [],
      "source": [
        "df=df.replace({\"Adult\":1})"
      ]
    },
    {
      "cell_type": "code",
      "execution_count": 7,
      "id": "c5f4cd55",
      "metadata": {},
      "outputs": [],
      "source": [
        "df=df.replace({\"Young\":0})"
      ]
    },
    {
      "cell_type": "code",
      "execution_count": 8,
      "id": "478b5788",
      "metadata": {},
      "outputs": [],
      "source": [
        "df1=df.copy()"
      ]
    },
    {
      "cell_type": "raw",
      "id": "aeded3a2",
      "metadata": {},
      "source": [
        "# Select the feature_coloumns\n",
        "# X is a new dataset containing the features\n",
        "# y is a new dataset containing the target variable"
      ]
    },
    {
      "cell_type": "code",
      "execution_count": 9,
      "id": "51ee7948",
      "metadata": {},
      "outputs": [],
      "source": [
        "feature_cols=[\"Pregnancies\",\"Glucose\",\"BloodPressure\",\"SkinThickness\",\"Insulin\",\"BMI\",\"DiabetesPedigreeFunction\",\"Age\",\"AgeCategory\"]\n",
        "X=df[feature_cols]\n",
        "y=df[\"Outcome\"]\n"
      ]
    },
    {
      "cell_type": "raw",
      "id": "aeb3eab5",
      "metadata": {},
      "source": [
        "# Split the dataset in a training and test test"
      ]
    },
    {
      "cell_type": "code",
      "execution_count": 10,
      "id": "32c94b6c",
      "metadata": {},
      "outputs": [],
      "source": [
        "X_train, X_test, y_train, y_test = train_test_split(X, y, test_size=0.3, random_state=1)"
      ]
    },
    {
      "cell_type": "raw",
      "id": "141565b7",
      "metadata": {},
      "source": [
        "# Train on the dataset a machine learning model. We choose a Random Forest "
      ]
    },
    {
      "cell_type": "code",
      "execution_count": 11,
      "id": "272b9db0",
      "metadata": {},
      "outputs": [],
      "source": [
        "classifier = DecisionTreeClassifier()\n",
        "classifier=classifier.fit(X_train,y_train)\n",
        "y_pred = classifier.predict(X_test)"
      ]
    },
    {
      "cell_type": "raw",
      "id": "cf2a1c69",
      "metadata": {},
      "source": [
        "#define a y_true to be compared with y_predict"
      ]
    },
    {
      "cell_type": "code",
      "execution_count": 12,
      "id": "22d33d93",
      "metadata": {},
      "outputs": [],
      "source": [
        "age=df[\"AgeCategory\"]\n",
        "df1=df.copy()\n",
        "df1=df1.reset_index()\n",
        "X_test_reset=X_test.reset_index()\n",
        "X_list=list(X_test_reset[\"index\"])\n",
        "y_true=df[\"Outcome\"].loc[X_list]\n",
        "age=df[\"AgeCategory\"].loc[X_list]"
      ]
    },
    {
      "cell_type": "raw",
      "id": "762eda00",
      "metadata": {},
      "source": [
        "# Import the metrics defined by FairLearn"
      ]
    },
    {
      "cell_type": "code",
      "execution_count": 13,
      "id": "22cd4b14",
      "metadata": {},
      "outputs": [],
      "source": [
        "from fairlearn.metrics import (\n",
        "    MetricFrame,\n",
        "    count,\n",
        "    false_negative_rate,\n",
        "    false_positive_rate,\n",
        "    selection_rate,\n",
        ")"
      ]
    },
    {
      "cell_type": "code",
      "execution_count": 14,
      "id": "b4eeb346",
      "metadata": {},
      "outputs": [],
      "source": [
        "metrics = {\n",
        "    \"accuracy\": accuracy_score,\n",
        "    \"precision\": precision_score,\n",
        "    \"false positive rate\": false_positive_rate,\n",
        "    \"false negative rate\": false_negative_rate,\n",
        "    \"true positive rate\": recall_score,\n",
        "    \"selection rate\": selection_rate,\n",
        "    \"count\": count,\n",
        "}"
      ]
    },
    {
      "cell_type": "code",
      "execution_count": 15,
      "id": "fd8ab412",
      "metadata": {},
      "outputs": [],
      "source": [
        "metric_frame = MetricFrame(\n",
        "    metrics=metrics, y_true=y_true, y_pred=y_pred, sensitive_features=age\n",
        ")"
      ]
    },
    {
      "cell_type": "code",
      "execution_count": 16,
      "id": "7f35d4fc",
      "metadata": {},
      "outputs": [
        {
          "data": {
            "text/plain": [
              "array([[<Axes: title={'center': 'accuracy'}, xlabel='AgeCategory'>,\n",
              "        <Axes: title={'center': 'precision'}, xlabel='AgeCategory'>,\n",
              "        <Axes: title={'center': 'false positive rate'}, xlabel='AgeCategory'>],\n",
              "       [<Axes: title={'center': 'false negative rate'}, xlabel='AgeCategory'>,\n",
              "        <Axes: title={'center': 'true positive rate'}, xlabel='AgeCategory'>,\n",
              "        <Axes: title={'center': 'selection rate'}, xlabel='AgeCategory'>],\n",
              "       [<Axes: title={'center': 'count'}, xlabel='AgeCategory'>,\n",
              "        <Axes: xlabel='AgeCategory'>, <Axes: xlabel='AgeCategory'>]],\n",
              "      dtype=object)"
            ]
          },
          "execution_count": 16,
          "metadata": {},
          "output_type": "execute_result"
        },
        {
          "data": {
            "image/png": "[encoded data removed]",
            "text/plain": [
              "<Figure size 1200x800 with 9 Axes>"
            ]
          },
          "metadata": {},
          "output_type": "display_data"
        }
      ],
      "source": [
        "metric_frame.by_group.plot.bar(\n",
        "    subplots=True,\n",
        "    layout=[3, 3],\n",
        "    legend=False,\n",
        "    figsize=[12, 8],\n",
        "    title=\"Show all metrics\",\n",
        ")\n"
      ]
    },
    {
      "cell_type": "markdown",
      "id": "cd0eddde",
      "metadata": {},
      "source": [
        "TPR= P( Y=1 | y=1)[Adult] > P(Y=1|y=1)[Young]"
      ]
    },
    {
      "cell_type": "markdown",
      "id": "15181f85",
      "metadata": {},
      "source": [
        "FPR=P(Y=1|y=0)[Adult]>P(Y=1|y=0)[Young]"
      ]
    },
    {
      "cell_type": "markdown",
      "id": "36c5b6af",
      "metadata": {},
      "source": [
        "FNR=P(Y=0|y=1)[Young]>P(Y=1|y=0)[Adult]"
      ]
    },
    {
      "cell_type": "markdown",
      "id": "63926fc7",
      "metadata": {},
      "source": [
        "SR= P(Y=1)"
      ]
    },
    {
      "cell_type": "raw",
      "id": "31d2819d",
      "metadata": {},
      "source": [
        "The following code will compute the fairness metrics defined by FairLearn\n",
        "1) Demographic Parity aka Statistical Parity Difference\n",
        "2) Equalize Odds: Define as the difference of FPR\n",
        "3) Equal Opportunity: Defined as the difference of TPR"
      ]
    },
    {
      "cell_type": "code",
      "execution_count": 17,
      "id": "219a03df",
      "metadata": {},
      "outputs": [
        {
          "name": "stdout",
          "output_type": "stream",
          "text": [
            "             accuracy  precision  false positive rate  false negative rate  \\\n",
            "AgeCategory                                                                  \n",
            "0            0.795181   0.461538             0.104478             0.625000   \n",
            "1            0.643836   0.596774             0.304878             0.421875   \n",
            "\n",
            "             true positive rate  selection rate  count  \n",
            "AgeCategory                                             \n",
            "0                      0.375000        0.156627   83.0  \n",
            "1                      0.578125        0.424658  146.0  \n"
          ]
        }
      ],
      "source": [
        "x=metric_frame.by_group\n",
        "print(metric_frame.by_group)"
      ]
    },
    {
      "cell_type": "code",
      "execution_count": 18,
      "id": "3ec803f7",
      "metadata": {},
      "outputs": [
        {
          "name": "stdout",
          "output_type": "stream",
          "text": [
            "Demographic Parity\n",
            "0.26803102822247893\n"
          ]
        }
      ],
      "source": [
        "dem_parity=demographic_parity_difference(y_true,y_pred,sensitive_features=age)\n",
        "print(\"Demographic Parity\")\n",
        "print(demographic_parity_difference(y_true,y_pred,sensitive_features=age))"
      ]
    },
    {
      "cell_type": "code",
      "execution_count": 19,
      "id": "2815e192",
      "metadata": {},
      "outputs": [
        {
          "name": "stdout",
          "output_type": "stream",
          "text": [
            "Equalize Odds Difference\n",
            "0.203125\n"
          ]
        }
      ],
      "source": [
        "equalize_odds=equalized_odds_difference(y_true, y_pred, sensitive_features=age)\n",
        "print(\"Equalize Odds Difference\")\n",
        "print(equalized_odds_difference(y_true, y_pred, sensitive_features=age))"
      ]
    },
    {
      "cell_type": "code",
      "execution_count": 20,
      "id": "94410ec7",
      "metadata": {},
      "outputs": [
        {
          "data": {
            "text/plain": [
              "AgeCategory\n",
              "0    0.375000\n",
              "1    0.578125\n",
              "Name: true positive rate, dtype: float64"
            ]
          },
          "execution_count": 20,
          "metadata": {},
          "output_type": "execute_result"
        }
      ],
      "source": [
        "x[\"true positive rate\"]"
      ]
    },
    {
      "cell_type": "code",
      "execution_count": 21,
      "id": "61e68dea",
      "metadata": {},
      "outputs": [
        {
          "name": "stdout",
          "output_type": "stream",
          "text": [
            "Equal Opportunity Difference\n",
            "l'equal opportunity vale  0.203125\n"
          ]
        }
      ],
      "source": [
        "equal_opportunity=x[\"true positive rate\"][1]-x[\"true positive rate\"][0]\n",
        "print(\"Equal Opportunity Difference\")\n",
        "print(\"l'equal opportunity vale \",equal_opportunity)"
      ]
    }
  ],
  "metadata": {
    "kernelspec": {
      "display_name": "TisProjectFramework",
      "language": "python",
      "name": "python3"
    },
    "language_info": {
      "codemirror_mode": {
        "name": "ipython",
        "version": 3
      },
      "file_extension": ".py",
      "mimetype": "text/x-python",
      "name": "python",
      "nbconvert_exporter": "python",
      "pygments_lexer": "ipython3",
      "version": "3.9.6"
    },
    "vscode": {
      "interpreter": {
        "hash": "06459a45776c3d3480cea5dc1497ee6ddc1b984aad2f42dd2608694b6335a33e"
      }
    }
  },
  "nbformat": 4,
  "nbformat_minor": 5
}
