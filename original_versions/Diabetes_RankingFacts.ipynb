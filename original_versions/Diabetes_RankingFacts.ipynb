{
  "cells": [
    {
      "cell_type": "code",
      "execution_count": 19,
      "id": "1edcbdf9",
      "metadata": {},
      "outputs": [],
      "source": [
        "import math\n",
        "import numpy as np\n",
        "import pandas as pd\n",
        "from scipy.stats import norm\n",
        "from RankingFacts.nutrition_label_utility import *\n",
        "import matplotlib.pyplot as plt\n",
        "import seaborn as sns\n",
        "%matplotlib inline\n",
        "import warnings\n",
        "warnings.filterwarnings('ignore')"
      ]
    },
    {
      "cell_type": "code",
      "execution_count": 20,
      "id": "2fd7765a",
      "metadata": {},
      "outputs": [
        {
          "data": {
            "text/html": [
              "<div>\n",
              "<style scoped>\n",
              "    .dataframe tbody tr th:only-of-type {\n",
              "        vertical-align: middle;\n",
              "    }\n",
              "\n",
              "    .dataframe tbody tr th {\n",
              "        vertical-align: top;\n",
              "    }\n",
              "\n",
              "    .dataframe thead th {\n",
              "        text-align: right;\n",
              "    }\n",
              "</style>\n",
              "<table border=\"1\" class=\"dataframe\">\n",
              "  <thead>\n",
              "    <tr style=\"text-align: right;\">\n",
              "      <th></th>\n",
              "      <th>Unnamed: 0</th>\n",
              "      <th>Pregnancies</th>\n",
              "      <th>Glucose</th>\n",
              "      <th>BloodPressure</th>\n",
              "      <th>SkinThickness</th>\n",
              "      <th>Insulin</th>\n",
              "      <th>BMI</th>\n",
              "      <th>DiabetesPedigreeFunction</th>\n",
              "      <th>Age</th>\n",
              "      <th>Outcome</th>\n",
              "      <th>AgeCategory</th>\n",
              "    </tr>\n",
              "  </thead>\n",
              "  <tbody>\n",
              "    <tr>\n",
              "      <th>0</th>\n",
              "      <td>0</td>\n",
              "      <td>6.0</td>\n",
              "      <td>148</td>\n",
              "      <td>72.0</td>\n",
              "      <td>35.0</td>\n",
              "      <td>30.5</td>\n",
              "      <td>33.6</td>\n",
              "      <td>0.627</td>\n",
              "      <td>50.0</td>\n",
              "      <td>1</td>\n",
              "      <td>1</td>\n",
              "    </tr>\n",
              "    <tr>\n",
              "      <th>1</th>\n",
              "      <td>1</td>\n",
              "      <td>1.0</td>\n",
              "      <td>85</td>\n",
              "      <td>66.0</td>\n",
              "      <td>29.0</td>\n",
              "      <td>30.5</td>\n",
              "      <td>26.6</td>\n",
              "      <td>0.351</td>\n",
              "      <td>31.0</td>\n",
              "      <td>0</td>\n",
              "      <td>1</td>\n",
              "    </tr>\n",
              "    <tr>\n",
              "      <th>2</th>\n",
              "      <td>2</td>\n",
              "      <td>8.0</td>\n",
              "      <td>183</td>\n",
              "      <td>64.0</td>\n",
              "      <td>23.0</td>\n",
              "      <td>30.5</td>\n",
              "      <td>23.3</td>\n",
              "      <td>0.672</td>\n",
              "      <td>32.0</td>\n",
              "      <td>1</td>\n",
              "      <td>1</td>\n",
              "    </tr>\n",
              "    <tr>\n",
              "      <th>3</th>\n",
              "      <td>3</td>\n",
              "      <td>1.0</td>\n",
              "      <td>89</td>\n",
              "      <td>66.0</td>\n",
              "      <td>23.0</td>\n",
              "      <td>94.0</td>\n",
              "      <td>28.1</td>\n",
              "      <td>0.167</td>\n",
              "      <td>21.0</td>\n",
              "      <td>0</td>\n",
              "      <td>0</td>\n",
              "    </tr>\n",
              "    <tr>\n",
              "      <th>4</th>\n",
              "      <td>4</td>\n",
              "      <td>0.0</td>\n",
              "      <td>137</td>\n",
              "      <td>40.0</td>\n",
              "      <td>35.0</td>\n",
              "      <td>168.0</td>\n",
              "      <td>43.1</td>\n",
              "      <td>0.374</td>\n",
              "      <td>33.0</td>\n",
              "      <td>1</td>\n",
              "      <td>1</td>\n",
              "    </tr>\n",
              "  </tbody>\n",
              "</table>\n",
              "</div>"
            ],
            "text/plain": [
              "   Unnamed: 0  Pregnancies  Glucose  BloodPressure  SkinThickness  Insulin  \\\n",
              "0           0          6.0      148           72.0           35.0     30.5   \n",
              "1           1          1.0       85           66.0           29.0     30.5   \n",
              "2           2          8.0      183           64.0           23.0     30.5   \n",
              "3           3          1.0       89           66.0           23.0     94.0   \n",
              "4           4          0.0      137           40.0           35.0    168.0   \n",
              "\n",
              "    BMI  DiabetesPedigreeFunction   Age  Outcome  AgeCategory  \n",
              "0  33.6                     0.627  50.0        1            1  \n",
              "1  26.6                     0.351  31.0        0            1  \n",
              "2  23.3                     0.672  32.0        1            1  \n",
              "3  28.1                     0.167  21.0        0            0  \n",
              "4  43.1                     0.374  33.0        1            1  "
            ]
          },
          "execution_count": 20,
          "metadata": {},
          "output_type": "execute_result"
        }
      ],
      "source": [
        "df=pd.read_csv(\"data/Diabetes_dataset.csv\")\n",
        "df.head(5)"
      ]
    },
    {
      "cell_type": "code",
      "execution_count": 21,
      "id": "a31ec129",
      "metadata": {},
      "outputs": [],
      "source": [
        "def età(row):\n",
        "    if(row[\"Age\"]>25):\n",
        "        return 'Adult'\n",
        "    else:\n",
        "        return 'Young'"
      ]
    },
    {
      "cell_type": "code",
      "execution_count": 22,
      "id": "ca10a5d0",
      "metadata": {},
      "outputs": [],
      "source": [
        "df[\"AgeCategory\"]=df.apply(lambda row: età(row), axis=1)"
      ]
    },
    {
      "cell_type": "code",
      "execution_count": 23,
      "id": "b8bb7ead",
      "metadata": {},
      "outputs": [
        {
          "data": {
            "text/html": [
              "<div>\n",
              "<style scoped>\n",
              "    .dataframe tbody tr th:only-of-type {\n",
              "        vertical-align: middle;\n",
              "    }\n",
              "\n",
              "    .dataframe tbody tr th {\n",
              "        vertical-align: top;\n",
              "    }\n",
              "\n",
              "    .dataframe thead th {\n",
              "        text-align: right;\n",
              "    }\n",
              "</style>\n",
              "<table border=\"1\" class=\"dataframe\">\n",
              "  <thead>\n",
              "    <tr style=\"text-align: right;\">\n",
              "      <th></th>\n",
              "      <th>Unnamed: 0</th>\n",
              "      <th>Pregnancies</th>\n",
              "      <th>Glucose</th>\n",
              "      <th>BloodPressure</th>\n",
              "      <th>SkinThickness</th>\n",
              "      <th>Insulin</th>\n",
              "      <th>BMI</th>\n",
              "      <th>DiabetesPedigreeFunction</th>\n",
              "      <th>Age</th>\n",
              "      <th>Outcome</th>\n",
              "      <th>AgeCategory</th>\n",
              "    </tr>\n",
              "  </thead>\n",
              "  <tbody>\n",
              "    <tr>\n",
              "      <th>0</th>\n",
              "      <td>0</td>\n",
              "      <td>6.0</td>\n",
              "      <td>148</td>\n",
              "      <td>72.0</td>\n",
              "      <td>35.0</td>\n",
              "      <td>30.5</td>\n",
              "      <td>33.6</td>\n",
              "      <td>0.627</td>\n",
              "      <td>50.0</td>\n",
              "      <td>1</td>\n",
              "      <td>Adult</td>\n",
              "    </tr>\n",
              "    <tr>\n",
              "      <th>1</th>\n",
              "      <td>1</td>\n",
              "      <td>1.0</td>\n",
              "      <td>85</td>\n",
              "      <td>66.0</td>\n",
              "      <td>29.0</td>\n",
              "      <td>30.5</td>\n",
              "      <td>26.6</td>\n",
              "      <td>0.351</td>\n",
              "      <td>31.0</td>\n",
              "      <td>0</td>\n",
              "      <td>Adult</td>\n",
              "    </tr>\n",
              "    <tr>\n",
              "      <th>2</th>\n",
              "      <td>2</td>\n",
              "      <td>8.0</td>\n",
              "      <td>183</td>\n",
              "      <td>64.0</td>\n",
              "      <td>23.0</td>\n",
              "      <td>30.5</td>\n",
              "      <td>23.3</td>\n",
              "      <td>0.672</td>\n",
              "      <td>32.0</td>\n",
              "      <td>1</td>\n",
              "      <td>Adult</td>\n",
              "    </tr>\n",
              "    <tr>\n",
              "      <th>3</th>\n",
              "      <td>3</td>\n",
              "      <td>1.0</td>\n",
              "      <td>89</td>\n",
              "      <td>66.0</td>\n",
              "      <td>23.0</td>\n",
              "      <td>94.0</td>\n",
              "      <td>28.1</td>\n",
              "      <td>0.167</td>\n",
              "      <td>21.0</td>\n",
              "      <td>0</td>\n",
              "      <td>Young</td>\n",
              "    </tr>\n",
              "    <tr>\n",
              "      <th>4</th>\n",
              "      <td>4</td>\n",
              "      <td>0.0</td>\n",
              "      <td>137</td>\n",
              "      <td>40.0</td>\n",
              "      <td>35.0</td>\n",
              "      <td>168.0</td>\n",
              "      <td>43.1</td>\n",
              "      <td>0.374</td>\n",
              "      <td>33.0</td>\n",
              "      <td>1</td>\n",
              "      <td>Adult</td>\n",
              "    </tr>\n",
              "  </tbody>\n",
              "</table>\n",
              "</div>"
            ],
            "text/plain": [
              "   Unnamed: 0  Pregnancies  Glucose  BloodPressure  SkinThickness  Insulin  \\\n",
              "0           0          6.0      148           72.0           35.0     30.5   \n",
              "1           1          1.0       85           66.0           29.0     30.5   \n",
              "2           2          8.0      183           64.0           23.0     30.5   \n",
              "3           3          1.0       89           66.0           23.0     94.0   \n",
              "4           4          0.0      137           40.0           35.0    168.0   \n",
              "\n",
              "    BMI  DiabetesPedigreeFunction   Age  Outcome AgeCategory  \n",
              "0  33.6                     0.627  50.0        1       Adult  \n",
              "1  26.6                     0.351  31.0        0       Adult  \n",
              "2  23.3                     0.672  32.0        1       Adult  \n",
              "3  28.1                     0.167  21.0        0       Young  \n",
              "4  43.1                     0.374  33.0        1       Adult  "
            ]
          },
          "execution_count": 23,
          "metadata": {},
          "output_type": "execute_result"
        }
      ],
      "source": [
        "df.head()"
      ]
    },
    {
      "cell_type": "markdown",
      "id": "da9e4251",
      "metadata": {},
      "source": [
        "# Ranking Facts"
      ]
    },
    {
      "cell_type": "raw",
      "id": "2d2da70b",
      "metadata": {},
      "source": [
        "Ranking Facts is a system composed by several tools: 1) Recipe and Ingredients 2) Stability 3) Diversity 4) Fairness"
      ]
    },
    {
      "cell_type": "markdown",
      "id": "0b4f4c4b",
      "metadata": {},
      "source": [
        "## Recipe And Ingredients"
      ]
    },
    {
      "cell_type": "markdown",
      "id": "b1ce8493",
      "metadata": {},
      "source": [
        "Recipe: tool which defined the ranking algorithm used by the system \n",
        "Ingredients: tool which defined the most important attributes, chosen by computing the correlation with the target variable"
      ]
    },
    {
      "cell_type": "raw",
      "id": "c28e26a7",
      "metadata": {},
      "source": [
        "First it's common, using this system, to normalize and standardize the dataset before computing the correlation with the target variable"
      ]
    },
    {
      "cell_type": "code",
      "execution_count": 24,
      "id": "bb31cc37",
      "metadata": {},
      "outputs": [],
      "source": [
        "# Don't consider the protected attribute when you use the Recipe tool\n",
        "ignore_atts = [\"AgeCategory\"] "
      ]
    },
    {
      "cell_type": "code",
      "execution_count": 25,
      "id": "086f7e3a",
      "metadata": {},
      "outputs": [],
      "source": [
        "cur_data = df.copy()\n",
        "norm_data = normalizeDataset(cur_data, ignore_atts)\n",
        "standarded_data = standardizeData(cur_data, ignore_atts)"
      ]
    },
    {
      "cell_type": "raw",
      "id": "926320be",
      "metadata": {},
      "source": [
        "The following piece of code, display a heatmap, on which you can identify the most correlated attributes with the target variables"
      ]
    },
    {
      "cell_type": "code",
      "execution_count": 26,
      "id": "2a03b674",
      "metadata": {},
      "outputs": [
        {
          "name": "stdout",
          "output_type": "stream",
          "text": [
            "--------------- CORRELATIONS ---------------\n",
            "                          Unnamed: 0  Pregnancies   Glucose  BloodPressure  \\\n",
            "Unnamed: 0                  1.000000    -0.029302  0.002671       0.033818   \n",
            "Pregnancies                -0.029302     1.000000  0.117612       0.207416   \n",
            "Glucose                     0.002671     0.117612  1.000000       0.204879   \n",
            "BloodPressure               0.033818     0.207416  0.204879       1.000000   \n",
            "SkinThickness               0.003522     0.082694  0.147975       0.127232   \n",
            "Insulin                     0.041517    -0.084574  0.129853      -0.032427   \n",
            "BMI                         0.008665     0.024749  0.229098       0.269477   \n",
            "DiabetesPedigreeFunction   -0.039756    -0.020653  0.053722      -0.023258   \n",
            "Age                        -0.017105     0.558950  0.274576       0.325335   \n",
            "Outcome                    -0.048495     0.199243  0.494650       0.163178   \n",
            "\n",
            "                          SkinThickness   Insulin       BMI  \\\n",
            "Unnamed: 0                     0.003522  0.041517  0.008665   \n",
            "Pregnancies                    0.082694 -0.084574  0.024749   \n",
            "Glucose                        0.147975  0.129853  0.229098   \n",
            "BloodPressure                  0.127232 -0.032427  0.269477   \n",
            "SkinThickness                  1.000000  0.181889  0.484976   \n",
            "Insulin                        0.181889  1.000000  0.168302   \n",
            "BMI                            0.484976  0.168302  1.000000   \n",
            "DiabetesPedigreeFunction       0.075813  0.205560  0.083432   \n",
            "Age                            0.069025 -0.049985  0.073870   \n",
            "Outcome                        0.167228  0.079717  0.296441   \n",
            "\n",
            "                          DiabetesPedigreeFunction       Age   Outcome  \n",
            "Unnamed: 0                               -0.039756 -0.017105 -0.048495  \n",
            "Pregnancies                              -0.020653  0.558950  0.199243  \n",
            "Glucose                                   0.053722  0.274576  0.494650  \n",
            "BloodPressure                            -0.023258  0.325335  0.163178  \n",
            "SkinThickness                             0.075813  0.069025  0.167228  \n",
            "Insulin                                   0.205560 -0.049985  0.079717  \n",
            "BMI                                       0.083432  0.073870  0.296441  \n",
            "DiabetesPedigreeFunction                  1.000000  0.000084  0.131974  \n",
            "Age                                       0.000084  1.000000  0.262531  \n",
            "Outcome                                   0.131974  0.262531  1.000000  \n",
            "--------------- CREATE A HEATMAP ---------------\n"
          ]
        },
        {
          "data": {
            "image/png": "[encoded data removed]",
            "text/plain": [
              "<Figure size 640x480 with 2 Axes>"
            ]
          },
          "metadata": {},
          "output_type": "display_data"
        }
      ],
      "source": [
        "corr_df = standarded_data.corr(method='pearson')\n",
        "print(\"--------------- CORRELATIONS ---------------\")\n",
        "print(corr_df.head(len(df)))\n",
        "print(\"--------------- CREATE A HEATMAP ---------------\")\n",
        "# Create a mask to display only the lower triangle of the matrix \n",
        "mask = np.zeros_like(corr_df)\n",
        "mask[np.triu_indices_from(mask)] = True\n",
        "sns.heatmap(corr_df, cmap='RdYlGn_r', vmax=1.0, vmin=-1.0 , mask = mask, linewidths=2.5)\n",
        "plt.yticks(rotation=0) \n",
        "plt.xticks(rotation=90) \n",
        "plt.show()"
      ]
    },
    {
      "cell_type": "raw",
      "id": "9e59c1d0",
      "metadata": {},
      "source": [
        "Based on the result, choose the attributes(3 is the ideal case), with a weights(since they are the most important we set the weights to 1, the max level)"
      ]
    },
    {
      "cell_type": "code",
      "execution_count": 27,
      "id": "452d34f4",
      "metadata": {},
      "outputs": [],
      "source": [
        "chosen_atts = [\"Glucose\", \"Age\", \"BMI\"]\n",
        "weights = [1, 1, 1]\n"
      ]
    },
    {
      "cell_type": "raw",
      "id": "432bae6f",
      "metadata": {},
      "source": [
        "Using the recipe tool, you compute a \"Score\", which indicates the sickest patients\". The use of \"Score\" will be important for the \"Diversity\", \"Stability\" and \"Fairness tool\""
      ]
    },
    {
      "cell_type": "code",
      "execution_count": 28,
      "id": "0f51af3f",
      "metadata": {},
      "outputs": [
        {
          "data": {
            "text/html": [
              "<div>\n",
              "<style scoped>\n",
              "    .dataframe tbody tr th:only-of-type {\n",
              "        vertical-align: middle;\n",
              "    }\n",
              "\n",
              "    .dataframe tbody tr th {\n",
              "        vertical-align: top;\n",
              "    }\n",
              "\n",
              "    .dataframe thead th {\n",
              "        text-align: right;\n",
              "    }\n",
              "</style>\n",
              "<table border=\"1\" class=\"dataframe\">\n",
              "  <thead>\n",
              "    <tr style=\"text-align: right;\">\n",
              "      <th></th>\n",
              "      <th>Unnamed: 0</th>\n",
              "      <th>Pregnancies</th>\n",
              "      <th>Glucose</th>\n",
              "      <th>BloodPressure</th>\n",
              "      <th>SkinThickness</th>\n",
              "      <th>Insulin</th>\n",
              "      <th>BMI</th>\n",
              "      <th>DiabetesPedigreeFunction</th>\n",
              "      <th>Age</th>\n",
              "      <th>Outcome</th>\n",
              "      <th>AgeCategory</th>\n",
              "      <th>Score</th>\n",
              "    </tr>\n",
              "  </thead>\n",
              "  <tbody>\n",
              "    <tr>\n",
              "      <th>0</th>\n",
              "      <td>0</td>\n",
              "      <td>6.0</td>\n",
              "      <td>148</td>\n",
              "      <td>72.0</td>\n",
              "      <td>35.0</td>\n",
              "      <td>30.50</td>\n",
              "      <td>33.6</td>\n",
              "      <td>0.627</td>\n",
              "      <td>50.0</td>\n",
              "      <td>1</td>\n",
              "      <td>Adult</td>\n",
              "      <td>231.6</td>\n",
              "    </tr>\n",
              "    <tr>\n",
              "      <th>1</th>\n",
              "      <td>1</td>\n",
              "      <td>1.0</td>\n",
              "      <td>85</td>\n",
              "      <td>66.0</td>\n",
              "      <td>29.0</td>\n",
              "      <td>30.50</td>\n",
              "      <td>26.6</td>\n",
              "      <td>0.351</td>\n",
              "      <td>31.0</td>\n",
              "      <td>0</td>\n",
              "      <td>Adult</td>\n",
              "      <td>142.6</td>\n",
              "    </tr>\n",
              "    <tr>\n",
              "      <th>2</th>\n",
              "      <td>2</td>\n",
              "      <td>8.0</td>\n",
              "      <td>183</td>\n",
              "      <td>64.0</td>\n",
              "      <td>23.0</td>\n",
              "      <td>30.50</td>\n",
              "      <td>23.3</td>\n",
              "      <td>0.672</td>\n",
              "      <td>32.0</td>\n",
              "      <td>1</td>\n",
              "      <td>Adult</td>\n",
              "      <td>238.3</td>\n",
              "    </tr>\n",
              "    <tr>\n",
              "      <th>3</th>\n",
              "      <td>3</td>\n",
              "      <td>1.0</td>\n",
              "      <td>89</td>\n",
              "      <td>66.0</td>\n",
              "      <td>23.0</td>\n",
              "      <td>94.00</td>\n",
              "      <td>28.1</td>\n",
              "      <td>0.167</td>\n",
              "      <td>21.0</td>\n",
              "      <td>0</td>\n",
              "      <td>Young</td>\n",
              "      <td>138.1</td>\n",
              "    </tr>\n",
              "    <tr>\n",
              "      <th>4</th>\n",
              "      <td>4</td>\n",
              "      <td>0.0</td>\n",
              "      <td>137</td>\n",
              "      <td>40.0</td>\n",
              "      <td>35.0</td>\n",
              "      <td>168.00</td>\n",
              "      <td>43.1</td>\n",
              "      <td>0.374</td>\n",
              "      <td>33.0</td>\n",
              "      <td>1</td>\n",
              "      <td>Adult</td>\n",
              "      <td>213.1</td>\n",
              "    </tr>\n",
              "    <tr>\n",
              "      <th>5</th>\n",
              "      <td>5</td>\n",
              "      <td>5.0</td>\n",
              "      <td>116</td>\n",
              "      <td>74.0</td>\n",
              "      <td>23.0</td>\n",
              "      <td>30.50</td>\n",
              "      <td>25.6</td>\n",
              "      <td>0.201</td>\n",
              "      <td>30.0</td>\n",
              "      <td>0</td>\n",
              "      <td>Adult</td>\n",
              "      <td>171.6</td>\n",
              "    </tr>\n",
              "    <tr>\n",
              "      <th>6</th>\n",
              "      <td>6</td>\n",
              "      <td>3.0</td>\n",
              "      <td>78</td>\n",
              "      <td>50.0</td>\n",
              "      <td>32.0</td>\n",
              "      <td>88.00</td>\n",
              "      <td>31.0</td>\n",
              "      <td>0.248</td>\n",
              "      <td>26.0</td>\n",
              "      <td>1</td>\n",
              "      <td>Adult</td>\n",
              "      <td>135.0</td>\n",
              "    </tr>\n",
              "    <tr>\n",
              "      <th>7</th>\n",
              "      <td>7</td>\n",
              "      <td>10.0</td>\n",
              "      <td>115</td>\n",
              "      <td>72.0</td>\n",
              "      <td>23.0</td>\n",
              "      <td>30.50</td>\n",
              "      <td>35.3</td>\n",
              "      <td>0.134</td>\n",
              "      <td>29.0</td>\n",
              "      <td>0</td>\n",
              "      <td>Adult</td>\n",
              "      <td>179.3</td>\n",
              "    </tr>\n",
              "    <tr>\n",
              "      <th>8</th>\n",
              "      <td>8</td>\n",
              "      <td>2.0</td>\n",
              "      <td>197</td>\n",
              "      <td>70.0</td>\n",
              "      <td>45.0</td>\n",
              "      <td>31.25</td>\n",
              "      <td>30.5</td>\n",
              "      <td>0.158</td>\n",
              "      <td>53.0</td>\n",
              "      <td>1</td>\n",
              "      <td>Adult</td>\n",
              "      <td>280.5</td>\n",
              "    </tr>\n",
              "    <tr>\n",
              "      <th>9</th>\n",
              "      <td>9</td>\n",
              "      <td>8.0</td>\n",
              "      <td>125</td>\n",
              "      <td>96.0</td>\n",
              "      <td>23.0</td>\n",
              "      <td>30.50</td>\n",
              "      <td>32.0</td>\n",
              "      <td>0.232</td>\n",
              "      <td>54.0</td>\n",
              "      <td>1</td>\n",
              "      <td>Adult</td>\n",
              "      <td>211.0</td>\n",
              "    </tr>\n",
              "  </tbody>\n",
              "</table>\n",
              "</div>"
            ],
            "text/plain": [
              "   Unnamed: 0  Pregnancies  Glucose  BloodPressure  SkinThickness  Insulin  \\\n",
              "0           0          6.0      148           72.0           35.0    30.50   \n",
              "1           1          1.0       85           66.0           29.0    30.50   \n",
              "2           2          8.0      183           64.0           23.0    30.50   \n",
              "3           3          1.0       89           66.0           23.0    94.00   \n",
              "4           4          0.0      137           40.0           35.0   168.00   \n",
              "5           5          5.0      116           74.0           23.0    30.50   \n",
              "6           6          3.0       78           50.0           32.0    88.00   \n",
              "7           7         10.0      115           72.0           23.0    30.50   \n",
              "8           8          2.0      197           70.0           45.0    31.25   \n",
              "9           9          8.0      125           96.0           23.0    30.50   \n",
              "\n",
              "    BMI  DiabetesPedigreeFunction   Age  Outcome AgeCategory  Score  \n",
              "0  33.6                     0.627  50.0        1       Adult  231.6  \n",
              "1  26.6                     0.351  31.0        0       Adult  142.6  \n",
              "2  23.3                     0.672  32.0        1       Adult  238.3  \n",
              "3  28.1                     0.167  21.0        0       Young  138.1  \n",
              "4  43.1                     0.374  33.0        1       Adult  213.1  \n",
              "5  25.6                     0.201  30.0        0       Adult  171.6  \n",
              "6  31.0                     0.248  26.0        1       Adult  135.0  \n",
              "7  35.3                     0.134  29.0        0       Adult  179.3  \n",
              "8  30.5                     0.158  53.0        1       Adult  280.5  \n",
              "9  32.0                     0.232  54.0        1       Adult  211.0  "
            ]
          },
          "execution_count": 28,
          "metadata": {},
          "output_type": "execute_result"
        }
      ],
      "source": [
        "norm_data[\"Score\"] = sum([weights[idx]*norm_data[atti] for idx, atti in enumerate(chosen_atts)])\n",
        "df[\"Score\"] = sum([weights[idx]*df[atti] for idx, atti in enumerate(chosen_atts)])\n",
        "df.head(10)"
      ]
    },
    {
      "cell_type": "markdown",
      "id": "7fd29766",
      "metadata": {},
      "source": [
        "# FAIRNESS"
      ]
    },
    {
      "cell_type": "raw",
      "id": "3b87c732",
      "metadata": {},
      "source": [
        "Ranking Facts compute three metrics of Fairness. Each of them compute the Statistical Parity, but in a different way\n",
        "1) P-Fair: it is a metric computed on the first 100 sample.It is based on the computation of the p-value\n",
        "2) P-Pairs: Internal Metrics defined by Ranking Facts. If the p-value > 0.05 then the protected_attributed is defined as \"fair\", otherwise as \"unfair\"\n",
        "3) P-proportion: Metric computed on the first 100 sample. If the p-value > 0.05 then the protected_attributed is defined as \"fair\", otherwise as \"unfair\" "
      ]
    },
    {
      "cell_type": "code",
      "execution_count": 29,
      "id": "d650e52e",
      "metadata": {},
      "outputs": [],
      "source": [
        "def compute_p_FAIR(_data, _att, _protected_group, _y_col=\"Score\", top_k = 100, round_default = 2):\n",
        "    \"\"\"\n",
        "    Compute p-value using FA*IR algorithm\n",
        "\n",
        "    Attributes:\n",
        "        _data: dataframe that stored the data\n",
        "        _att: sensitive attribute name\n",
        "        _protected_group: the value of sensitive attribute for protected group\n",
        "        _y_col: the column that stores the values of ranking\n",
        "        top_k: the top ranking to verify group fairness\n",
        "        round_default: threshold of round function\n",
        "    Return:  rounded p-value and adjusted significance level in FA*IR\n",
        "    \"\"\"\n",
        "    _data.sort_values(by=_y_col, ascending=False, inplace=True)\n",
        "    _data.reset_index(drop=True, inplace=True)\n",
        "    if len(_data)/2 < top_k:\n",
        "        top_k = int(len(_data)/2)\n",
        "    pos_protected = _data[_data[_att]==_protected_group].index+1\n",
        "    pro_prob = len(pos_protected)/len(_data)\n",
        "\n",
        "    # transform ranking to a ranking of tuples with (id,\"pro\")/(id,\"unpro\") to run FA*IR\n",
        "    transformed_ranking = []\n",
        "    for index, row in _data.head(top_k).iterrows():\n",
        "        if row[_att] == _protected_group:\n",
        "            transformed_ranking.append([index,\"pro\"])\n",
        "        else:\n",
        "            transformed_ranking.append([index,\"unpro\"])\n",
        "\n",
        "    p_value, isFair, posiFail, alpha_c, pro_needed_list = computeFairRankingProbability(top_k, pro_prob, transformed_ranking)\n",
        "    return p_value, isFair, posiFail, round(alpha_c,round_default)"
      ]
    },
    {
      "cell_type": "code",
      "execution_count": 30,
      "id": "dfdfd048",
      "metadata": {},
      "outputs": [
        {
          "name": "stdout",
          "output_type": "stream",
          "text": [
            "--------------- GROUP FAIRNESS VERIFICATION CONSIDERING AgeCategory ---------------\n",
            "--------------- FAIR FOR Adult (p=0.9999999999999908, alpha=0.79) ---------------\n",
            "--------------- UNFAIR FOR Young (p=1.2009254734231408e-13, alpha=0.81) FAIL AT RANK POSITION 7 ---------\n"
          ]
        }
      ],
      "source": [
        "sensi_att = \"AgeCategory\" \n",
        "protected_groups = norm_data[sensi_att].unique()\n",
        "print(\"--------------- GROUP FAIRNESS VERIFICATION CONSIDERING \"+sensi_att+\" ---------------\") \n",
        "for vi in protected_groups:\n",
        "    vi_p, fair_res, pos_fail, vi_alpha = compute_p_FAIR(norm_data, sensi_att, vi)\n",
        "    if fair_res:\n",
        "        print(\"--------------- FAIR FOR \"+vi+\" (p=\"+str(vi_p)+\", alpha=\"+str(vi_alpha)+\") ---------------\") \n",
        "    else:\n",
        "        print(\"--------------- UNFAIR FOR \"+vi+\" (p=\"+str(vi_p)+\", alpha=\"+str(vi_alpha)+\") FAIL AT RANK POSITION \"+str(pos_fail)+\" ---------\")"
      ]
    },
    {
      "cell_type": "code",
      "execution_count": 31,
      "id": "e41a9c10",
      "metadata": {},
      "outputs": [],
      "source": [
        "def compute_p_pairs(_data, _att, _protected_group, _y_col=\"Score\", run_time = 100, round_default = 2):\n",
        "    \"\"\"\n",
        "    Compute p-value using Pairwise oracle\n",
        "\n",
        "    Attributes:\n",
        "        _data: dataframe that stored the data\n",
        "        _att: sensitive attribute name\n",
        "        _protected_group: the value of sensitive attribute for protected group\n",
        "        _y_col: the column that stores the values of ranking\n",
        "        run_time: simulation times for pairwise comparison\n",
        "        round_default: threshold of round function\n",
        "    Return:  rounded p-value\n",
        "    \"\"\"\n",
        "    _data.sort_values(by=_y_col, ascending=False, inplace=True)\n",
        "    _data.reset_index(drop=True, inplace=True)\n",
        "    pos_protected = _data[_data[_att]==_protected_group].index+1\n",
        "    pro_prob = len(pos_protected)/len(_data)\n",
        "    total_n = len(_data)\n",
        "    pro_n = len(pos_protected)\n",
        "    seed_random_ranking = [x for x in range(total_n)]  # list of IDs\n",
        "    seed_f_index = [x for x in range(pro_n)]  # list of IDs\n",
        "    \n",
        "    sim_df = pd.DataFrame(columns=[\"Run\", \"pair_n\"])\n",
        "    # run the simulation of ranking generation, in each simulation, generate a fair ranking with input N and size of sensitive group\n",
        "    for ri in range(run_time):\n",
        "        output_ranking = mergeUnfairRanking(seed_random_ranking, seed_f_index, pro_prob)\n",
        "        position_pro_list = [i for i in range(total_n) if output_ranking[i] in seed_f_index]\n",
        "        count_sensi_prefered_pairs = 0\n",
        "        for i in range(len(position_pro_list)):\n",
        "            cur_position = position_pro_list[i]\n",
        "            left_sensi = pro_n - (i + 1)\n",
        "            count_sensi_prefered_pairs = count_sensi_prefered_pairs + (total_n - cur_position - left_sensi)\n",
        "        cur_row = [ri + 1, count_sensi_prefered_pairs]\n",
        "        sim_df.loc[sim_df.shape[0]] = cur_row\n",
        "\n",
        "    input_pair_n, _, _ = computePairN(_att, _protected_group, _data)\n",
        "    pair_samples = list(sim_df[\"pair_n\"].dropna())\n",
        "    return round(Cdf(pair_samples, input_pair_n), round_default)"
      ]
    },
    {
      "cell_type": "code",
      "execution_count": 32,
      "id": "f9369deb",
      "metadata": {},
      "outputs": [
        {
          "name": "stdout",
          "output_type": "stream",
          "text": [
            "--------------- GROUP FAIRNESS VERIFICATION CONSIDERING AgeCategory ---------------\n",
            "--------------- FAIR FOR Adult (p=1.0, alpha=0.05) ---------------\n",
            "--------------- UNFAIR FOR Young (p=0.0, alpha=0.05) --------------\n"
          ]
        }
      ],
      "source": [
        "sensi_att =  \"AgeCategory\"\n",
        "\n",
        "protected_groups = norm_data[sensi_att].unique()\n",
        "print(\"--------------- GROUP FAIRNESS VERIFICATION CONSIDERING \"+sensi_att+\" ---------------\") \n",
        "for vi in protected_groups:\n",
        "    vi_p = compute_p_pairs(norm_data, sensi_att, vi)\n",
        "    if vi_p > 0.05:\n",
        "        print(\"--------------- FAIR FOR \"+vi+\" (p=\"+str(vi_p)+\", alpha=0.05) ---------------\") \n",
        "    else:\n",
        "        print(\"--------------- UNFAIR FOR \"+vi+\" (p=\"+str(vi_p)+\", alpha=0.05) --------------\") "
      ]
    },
    {
      "cell_type": "code",
      "execution_count": 33,
      "id": "3cc6ceed",
      "metadata": {},
      "outputs": [],
      "source": [
        "def compute_p_proportion(_data, _att, _protected_group, _y_col=\"Score\", top_k = 100, round_default = 2):\n",
        "    \"\"\"\n",
        "    Compute p-value using Proportion oracle, i.e., z-test method of 4.1.3 in \"A survey on measuring indirect discrimination in machine learning\".\n",
        "\n",
        "    Attributes:\n",
        "        _data: dataframe that stored the data\n",
        "        _att: sensitive attribute name\n",
        "        _protected_group: the value of sensitive attribute for protected group\n",
        "        _y_col: the column that stores the values of ranking\n",
        "        top_k: the top ranking to verify group fairness\n",
        "        round_default: threshold of round function\n",
        "    Return:  rounded p-value\n",
        "    \"\"\"\n",
        "    \n",
        "    _data.sort_values(by=_y_col, ascending=False, inplace=True)\n",
        "    _data.reset_index(drop=True, inplace=True)\n",
        "    if len(_data)/2 < top_k:\n",
        "        top_k = int(len(_data)/2)\n",
        "    total_n = len(_data)\n",
        "    pro_n = len(_data[_data[_att]==_protected_group])\n",
        "    unpro_n = total_n - pro_n\n",
        "    \n",
        "    top_data = _data.head(top_k)\n",
        "    pro_k = len(top_data[top_data[_att]==_protected_group])\n",
        "    unpro_k = top_k - pro_k\n",
        "    \n",
        "\n",
        "    pooledSE = math.sqrt((pro_k / pro_n * (1-pro_k/pro_n) / pro_n) + (unpro_k/unpro_n * (1-unpro_k/unpro_n) / unpro_n))\n",
        "    \n",
        "    z_test = (unpro_k/unpro_n - pro_k/pro_n) / pooledSE\n",
        "    p_value = norm.sf(z_test)\n",
        "\n",
        "    return round(p_value,round_default)"
      ]
    },
    {
      "cell_type": "code",
      "execution_count": 34,
      "id": "1900b824",
      "metadata": {},
      "outputs": [
        {
          "name": "stdout",
          "output_type": "stream",
          "text": [
            "--------------- GROUP FAIRNESS VERIFICATION CONSIDERING AgeCategory ---------------\n",
            "--------------- FAIR FOR Adult (p=1.0, alpha=0.05) ---------------\n",
            "--------------- UNFAIR FOR Young (p=0.0, alpha=0.05) --------------\n"
          ]
        }
      ],
      "source": [
        "sensi_att = \"AgeCategory\"\n",
        "\n",
        "protected_groups = norm_data[sensi_att].unique()\n",
        "print(\"--------------- GROUP FAIRNESS VERIFICATION CONSIDERING \"+sensi_att+\" ---------------\") \n",
        "for vi in protected_groups:\n",
        "    vi_p = compute_p_proportion(norm_data, sensi_att, vi)\n",
        "    if vi_p > 0.05:\n",
        "        print(\"--------------- FAIR FOR \"+vi+\" (p=\"+str(vi_p)+\", alpha=0.05) ---------------\") \n",
        "    else:\n",
        "        print(\"--------------- UNFAIR FOR \"+vi+\" (p=\"+str(vi_p)+\", alpha=0.05) --------------\") "
      ]
    },
    {
      "cell_type": "markdown",
      "id": "1708884a",
      "metadata": {},
      "source": [
        "# STABILITY"
      ]
    },
    {
      "cell_type": "raw",
      "id": "da45ec07",
      "metadata": {},
      "source": [
        "The Stability label explains whether the ranking methodology is robust on this particular dataset.\n",
        "An unstable ranking is one where slight changes to the data (e.g., due to uncertainty and noise), or to the methodology (e.g., by slightly adjusting the weights in a score-based ranker) could lead to a significant change in the output.\n",
        "This Stability label reports a stability score, as a single number that indicates the extent of the change required for the ranking to change.\n",
        "The stability of the ranking is quantified as the slope of the line that is fit to the score distribution, at the top-10 and over-all.\n",
        " A score distribution is unstable if scores of items in adjacent ranks are close to each other (|slope| <= 0.25), and so a very small change in scores will lead to a change in the ranking.\n"
      ]
    },
    {
      "cell_type": "code",
      "execution_count": 35,
      "id": "405ff4f3",
      "metadata": {},
      "outputs": [],
      "source": [
        "def visualize_stability(_data, _y_col=\"Score\", _top_n=100):\n",
        "    plt.figure(figsize=[6,5],dpi=100)\n",
        "    sns.set(style=\"darkgrid\")  \n",
        "    sns.set(font_scale = 1.5)\n",
        "    vis_data = _data.head(_top_n)\n",
        "    vis_x = [x+1 for x in vis_data.index]\n",
        "    vis_y = sorted(vis_data[_y_col], reverse=True)\n",
        "    ax = sns.scatterplot([vis_x, vis_y]);\n",
        "    ax.set_xlabel(\"Position\")\n",
        "    ax.set_ylabel(_y_col)\n",
        "    #plt.axis([40, 100, 0, 30])\n",
        "    plt.tight_layout()\n",
        "def compute_slope_scores(_data, _y_col=\"Score\", round_default=10):\n",
        "    \"\"\"\n",
        "    Compute the slop of a list of scores.\n",
        "\n",
        "    Attributes:\n",
        "        _data: file name that stored the data\n",
        "        _y_col: column name of Y variable\n",
        "        round_default: threshold of round function for the returned stability\n",
        "    Return:  slope of scores in the input _data\n",
        "    \"\"\"\n",
        "    xd = [i for i in range(1,len(_data)+1)]\n",
        "    yd = _data[_y_col].values\n",
        "    par = np.polyfit(xd, yd, 1, full=True)\n",
        "    slope = par[0][0]\n",
        "    return abs(round(slope, round_default))"
      ]
    },
    {
      "cell_type": "code",
      "execution_count": 36,
      "id": "335f97d5",
      "metadata": {},
      "outputs": [
        {
          "name": "stdout",
          "output_type": "stream",
          "text": [
            "--------------- STABLE AT TOP 10 (STABILITY AS 2.6309090909) ---------------\n",
            "--------------- STABLE AT TOP 100(STABILIY AS 0.3578211821) ---------------\n"
          ]
        },
        {
          "ename": "TypeError",
          "evalue": "scatterplot() takes from 0 to 1 positional arguments but 2 were given",
          "output_type": "error",
          "traceback": [
            "\u001b[0;31m---------------------------------------------------------------------------\u001b[0m",
            "\u001b[0;31mTypeError\u001b[0m                                 Traceback (most recent call last)",
            "Cell \u001b[0;32mIn[36], line 11\u001b[0m\n\u001b[1;32m      9\u001b[0m \u001b[39melse\u001b[39;00m:\n\u001b[1;32m     10\u001b[0m     \u001b[39mprint\u001b[39m(\u001b[39m\"\u001b[39m\u001b[39m--------------- STABLE AT TOP 100(STABILIY AS \u001b[39m\u001b[39m\"\u001b[39m\u001b[39m+\u001b[39m\u001b[39mstr\u001b[39m(all_stability)\u001b[39m+\u001b[39m\u001b[39m\"\u001b[39m\u001b[39m) ---------------\u001b[39m\u001b[39m\"\u001b[39m)     \n\u001b[0;32m---> 11\u001b[0m visualize_stability(df)\n",
            "Cell \u001b[0;32mIn[35], line 8\u001b[0m, in \u001b[0;36mvisualize_stability\u001b[0;34m(_data, _y_col, _top_n)\u001b[0m\n\u001b[1;32m      6\u001b[0m vis_x \u001b[39m=\u001b[39m [x\u001b[39m+\u001b[39m\u001b[39m1\u001b[39m \u001b[39mfor\u001b[39;00m x \u001b[39min\u001b[39;00m vis_data\u001b[39m.\u001b[39mindex]\n\u001b[1;32m      7\u001b[0m vis_y \u001b[39m=\u001b[39m \u001b[39msorted\u001b[39m(vis_data[_y_col], reverse\u001b[39m=\u001b[39m\u001b[39mTrue\u001b[39;00m)\n\u001b[0;32m----> 8\u001b[0m ax \u001b[39m=\u001b[39m sns\u001b[39m.\u001b[39;49mscatterplot(vis_x, vis_y);\n\u001b[1;32m      9\u001b[0m ax\u001b[39m.\u001b[39mset_xlabel(\u001b[39m\"\u001b[39m\u001b[39mPosition\u001b[39m\u001b[39m\"\u001b[39m)\n\u001b[1;32m     10\u001b[0m ax\u001b[39m.\u001b[39mset_ylabel(_y_col)\n",
            "\u001b[0;31mTypeError\u001b[0m: scatterplot() takes from 0 to 1 positional arguments but 2 were given"
          ]
        },
        {
          "data": {
            "text/plain": [
              "<Figure size 600x500 with 0 Axes>"
            ]
          },
          "metadata": {},
          "output_type": "display_data"
        }
      ],
      "source": [
        "top10_stability = compute_slope_scores(df.head(10))\n",
        "if top10_stability <= 0.25:\n",
        "    print(\"--------------- UNSTABLE AT TOP 10 (STABILITY AS \"+str(top10_stability)+\") ---------------\") \n",
        "else:\n",
        "    print(\"--------------- STABLE AT TOP 10 (STABILITY AS \"+str(top10_stability)+\") ---------------\") \n",
        "all_stability = compute_slope_scores(df.head(100))\n",
        "if all_stability <= 0.25:\n",
        "    print(\"--------------- UNSTABLE AT TOP 100(STABILIY AS \"+str(all_stability)+\") ---------------\") \n",
        "else:\n",
        "    print(\"--------------- STABLE AT TOP 100(STABILIY AS \"+str(all_stability)+\") ---------------\")     \n",
        "visualize_stability(df)"
      ]
    },
    {
      "cell_type": "markdown",
      "id": "6c32a1b4",
      "metadata": {},
      "source": [
        "# DIVERSITY"
      ]
    },
    {
      "cell_type": "raw",
      "id": "ec0e14aa",
      "metadata": {},
      "source": [
        "The Diversity label shows diversity with respect to a set of demographic categories of individuals, or a set of categorical attributes of other kinds of items.\n",
        "This label displays the proportion of each category in the top-10 ranked list and over-all.\n",
        "Like other labels, it is updated as the user selects different ranking methods or sets different weights.\n"
      ]
    },
    {
      "cell_type": "code",
      "execution_count": null,
      "id": "02b503ff",
      "metadata": {},
      "outputs": [],
      "source": [
        "def visualize_diversity(_data, _att, _y_col=\"Score\"):\n",
        "    plt.figure(figsize=[6,5],dpi=100)\n",
        "    sns.set(font_scale = 1)\n",
        "    sns.set_palette(palette=\"pastel\")\n",
        "    sort_data = _data.sort_values(by=_y_col, ascending=False)\n",
        "    vis_count = sort_data[_att].value_counts()\n",
        "    plt.pie(list(vis_count.values), labels=list(vis_count.index));\n",
        "    plt.title(_att)\n",
        "    plt.tight_layout()"
      ]
    },
    {
      "cell_type": "code",
      "execution_count": null,
      "id": "47aeec1d",
      "metadata": {},
      "outputs": [],
      "source": [
        "sort_data = df.sort_values(by=[\"Score\"], ascending=False)"
      ]
    },
    {
      "cell_type": "code",
      "execution_count": null,
      "id": "46836a94",
      "metadata": {},
      "outputs": [],
      "source": [
        "chosen_atts = [\"AgeCategory\"]\n",
        "for atti in chosen_atts:\n",
        "    visualize_diversity(sort_data.head(10), atti)"
      ]
    },
    {
      "cell_type": "code",
      "execution_count": null,
      "id": "eb7b80d7",
      "metadata": {},
      "outputs": [],
      "source": [
        "for atti in chosen_atts:\n",
        "    visualize_diversity(sort_data, atti)"
      ]
    },
    {
      "cell_type": "code",
      "execution_count": null,
      "id": "1f7e08c3",
      "metadata": {},
      "outputs": [],
      "source": []
    }
  ],
  "metadata": {
    "kernelspec": {
      "display_name": "Python 3",
      "language": "python",
      "name": "python3"
    },
    "language_info": {
      "codemirror_mode": {
        "name": "ipython",
        "version": 3
      },
      "file_extension": ".py",
      "mimetype": "text/x-python",
      "name": "python",
      "nbconvert_exporter": "python",
      "pygments_lexer": "ipython3",
      "version": "3.9.6"
    },
    "vscode": {
      "interpreter": {
        "hash": "31f2aee4e71d21fbe5cf8b01ff0e069b9275f58929596ceb00d14d90e3e16cd6"
      }
    }
  },
  "nbformat": 4,
  "nbformat_minor": 5
}
