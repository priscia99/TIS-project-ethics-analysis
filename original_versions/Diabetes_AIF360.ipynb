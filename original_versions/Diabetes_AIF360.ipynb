{
  "cells": [
    {
      "cell_type": "code",
      "execution_count": 1,
      "id": "1edcbdf9",
      "metadata": {},
      "outputs": [
        {
          "name": "stderr",
          "output_type": "stream",
          "text": [
            "WARNING:root:No module named 'tensorflow': AdversarialDebiasing will be unavailable. To install, run:\n",
            "pip install 'aif360[AdversarialDebiasing]'\n"
          ]
        },
        {
          "data": {
            "text/html": [
              "        <script type=\"text/javascript\">\n",
              "        window.PlotlyConfig = {MathJaxConfig: 'local'};\n",
              "        if (window.MathJax && window.MathJax.Hub && window.MathJax.Hub.Config) {window.MathJax.Hub.Config({SVG: {font: \"STIX-Web\"}});}\n",
              "        if (typeof require !== 'undefined') {\n",
              "        require.undef(\"plotly\");\n",
              "        requirejs.config({\n",
              "            paths: {\n",
              "                'plotly': ['https://cdn.plot.ly/plotly-2.18.2.min']\n",
              "            }\n",
              "        });\n",
              "        require(['plotly'], function(Plotly) {\n",
              "            window._Plotly = Plotly;\n",
              "        });\n",
              "        }\n",
              "        </script>\n",
              "        "
            ]
          },
          "metadata": {},
          "output_type": "display_data"
        }
      ],
      "source": [
        "import sys\n",
        "sys.path.insert(1, \"../\")  \n",
        "\n",
        "import numpy as np\n",
        "import pandas as pd\n",
        "np.random.seed(0)\n",
        "from aif360.metrics import BinaryLabelDatasetMetric, ClassificationMetric\n",
        "from aif360.datasets import BinaryLabelDataset\n",
        "from sklearn.ensemble import RandomForestClassifier\n",
        "from IPython.display import Markdown, display\n",
        "import matplotlib.pyplot as plt\n",
        "import seaborn as sns\n",
        "import matplotlib.patches as patches\n",
        "plt.style.use('seaborn-v0_8-white')\n",
        "\n",
        "import plotly.offline as py\n",
        "py.init_notebook_mode(connected=True)"
      ]
    },
    {
      "cell_type": "markdown",
      "id": "2444d588",
      "metadata": {},
      "source": [
        "## Introductory Part"
      ]
    },
    {
      "cell_type": "raw",
      "id": "e2eec83d",
      "metadata": {},
      "source": [
        "- Import firstly the dataset pre_processed. In this case the dataset has been already pre-processed, so we don't need to perform Exploratory Data Analysis and Pre-Processing"
      ]
    },
    {
      "cell_type": "code",
      "execution_count": 2,
      "id": "2fd7765a",
      "metadata": {},
      "outputs": [
        {
          "data": {
            "text/html": [
              "<div>\n",
              "<style scoped>\n",
              "    .dataframe tbody tr th:only-of-type {\n",
              "        vertical-align: middle;\n",
              "    }\n",
              "\n",
              "    .dataframe tbody tr th {\n",
              "        vertical-align: top;\n",
              "    }\n",
              "\n",
              "    .dataframe thead th {\n",
              "        text-align: right;\n",
              "    }\n",
              "</style>\n",
              "<table border=\"1\" class=\"dataframe\">\n",
              "  <thead>\n",
              "    <tr style=\"text-align: right;\">\n",
              "      <th></th>\n",
              "      <th>Unnamed: 0</th>\n",
              "      <th>Pregnancies</th>\n",
              "      <th>Glucose</th>\n",
              "      <th>BloodPressure</th>\n",
              "      <th>SkinThickness</th>\n",
              "      <th>Insulin</th>\n",
              "      <th>BMI</th>\n",
              "      <th>DiabetesPedigreeFunction</th>\n",
              "      <th>Age</th>\n",
              "      <th>Outcome</th>\n",
              "      <th>AgeCategory</th>\n",
              "    </tr>\n",
              "  </thead>\n",
              "  <tbody>\n",
              "    <tr>\n",
              "      <th>0</th>\n",
              "      <td>0</td>\n",
              "      <td>6.0</td>\n",
              "      <td>148</td>\n",
              "      <td>72.0</td>\n",
              "      <td>35.0</td>\n",
              "      <td>30.5</td>\n",
              "      <td>33.6</td>\n",
              "      <td>0.627</td>\n",
              "      <td>50.0</td>\n",
              "      <td>1</td>\n",
              "      <td>1</td>\n",
              "    </tr>\n",
              "    <tr>\n",
              "      <th>1</th>\n",
              "      <td>1</td>\n",
              "      <td>1.0</td>\n",
              "      <td>85</td>\n",
              "      <td>66.0</td>\n",
              "      <td>29.0</td>\n",
              "      <td>30.5</td>\n",
              "      <td>26.6</td>\n",
              "      <td>0.351</td>\n",
              "      <td>31.0</td>\n",
              "      <td>0</td>\n",
              "      <td>1</td>\n",
              "    </tr>\n",
              "    <tr>\n",
              "      <th>2</th>\n",
              "      <td>2</td>\n",
              "      <td>8.0</td>\n",
              "      <td>183</td>\n",
              "      <td>64.0</td>\n",
              "      <td>23.0</td>\n",
              "      <td>30.5</td>\n",
              "      <td>23.3</td>\n",
              "      <td>0.672</td>\n",
              "      <td>32.0</td>\n",
              "      <td>1</td>\n",
              "      <td>1</td>\n",
              "    </tr>\n",
              "    <tr>\n",
              "      <th>3</th>\n",
              "      <td>3</td>\n",
              "      <td>1.0</td>\n",
              "      <td>89</td>\n",
              "      <td>66.0</td>\n",
              "      <td>23.0</td>\n",
              "      <td>94.0</td>\n",
              "      <td>28.1</td>\n",
              "      <td>0.167</td>\n",
              "      <td>21.0</td>\n",
              "      <td>0</td>\n",
              "      <td>0</td>\n",
              "    </tr>\n",
              "    <tr>\n",
              "      <th>4</th>\n",
              "      <td>4</td>\n",
              "      <td>0.0</td>\n",
              "      <td>137</td>\n",
              "      <td>40.0</td>\n",
              "      <td>35.0</td>\n",
              "      <td>168.0</td>\n",
              "      <td>43.1</td>\n",
              "      <td>0.374</td>\n",
              "      <td>33.0</td>\n",
              "      <td>1</td>\n",
              "      <td>1</td>\n",
              "    </tr>\n",
              "  </tbody>\n",
              "</table>\n",
              "</div>"
            ],
            "text/plain": [
              "   Unnamed: 0  Pregnancies  Glucose  BloodPressure  SkinThickness  Insulin  \\\n",
              "0           0          6.0      148           72.0           35.0     30.5   \n",
              "1           1          1.0       85           66.0           29.0     30.5   \n",
              "2           2          8.0      183           64.0           23.0     30.5   \n",
              "3           3          1.0       89           66.0           23.0     94.0   \n",
              "4           4          0.0      137           40.0           35.0    168.0   \n",
              "\n",
              "    BMI  DiabetesPedigreeFunction   Age  Outcome  AgeCategory  \n",
              "0  33.6                     0.627  50.0        1            1  \n",
              "1  26.6                     0.351  31.0        0            1  \n",
              "2  23.3                     0.672  32.0        1            1  \n",
              "3  28.1                     0.167  21.0        0            0  \n",
              "4  43.1                     0.374  33.0        1            1  "
            ]
          },
          "execution_count": 2,
          "metadata": {},
          "output_type": "execute_result"
        }
      ],
      "source": [
        "df=pd.read_csv(\"./data/Diabetes_dataset.csv\")\n",
        "df.head(5)"
      ]
    },
    {
      "cell_type": "markdown",
      "id": "c325a193",
      "metadata": {},
      "source": [
        "A first interesting aspect is to plot the outcome distribution, in order to have a general view of the outcome"
      ]
    },
    {
      "cell_type": "code",
      "execution_count": 3,
      "id": "fdf4e43e",
      "metadata": {},
      "outputs": [
        {
          "data": {
            "image/png": "[encoded data removed]",
            "text/plain": [
              "<Figure size 640x480 with 1 Axes>"
            ]
          },
          "metadata": {},
          "output_type": "display_data"
        }
      ],
      "source": [
        "labels='No Diabetes','Diabetes'\n",
        "size0, size1 = df[\"Outcome\"].value_counts()\n",
        "sizes = [size0, size1]\n",
        "explode = (0, 0)\n",
        "fig1, ax1= plt.subplots()\n",
        "ax1.pie(sizes,explode=explode,labels=labels,autopct='%1.1f%%',\n",
        "        shadow=True, startangle=90)\n",
        "ax1.axis('equal')\n",
        "plt.show()\n"
      ]
    },
    {
      "cell_type": "markdown",
      "id": "b7196311",
      "metadata": {},
      "source": [
        "From the plot, we can see that in the dataset 65.1% of women are classified as \"Non-Diabetic\", while the 34.9% are classified as diabetic. "
      ]
    },
    {
      "cell_type": "markdown",
      "id": "da9e4251",
      "metadata": {},
      "source": [
        "# AIF360"
      ]
    },
    {
      "cell_type": "markdown",
      "id": "e0841c6c",
      "metadata": {},
      "source": [
        "AIF360 is a system used in order to detect and mitigate a possible bias inside a dataset. \n",
        "It requires firstly the identification of the corresponding protected attribute(sex,race,age etc..)\n",
        "The protected attribute should be binary, otherwise we need to binarize the variable."
      ]
    },
    {
      "cell_type": "markdown",
      "id": "ccb6e96c",
      "metadata": {},
      "source": [
        "In this case study the protected attribute(age) is numeric. So we need to binarize the variable: if the age is greater then 25 we identify a women as \"Adult\", otherwise \"Young\"."
      ]
    },
    {
      "cell_type": "code",
      "execution_count": 4,
      "id": "a31ec129",
      "metadata": {},
      "outputs": [],
      "source": [
        "def età(row):\n",
        "    if(row[\"Age\"]>25):\n",
        "        return 'Adult'\n",
        "    else:\n",
        "        return 'Young'"
      ]
    },
    {
      "cell_type": "code",
      "execution_count": 5,
      "id": "ca10a5d0",
      "metadata": {},
      "outputs": [],
      "source": [
        "df[\"AgeCategory\"]=df.apply(lambda row: età(row), axis=1)"
      ]
    },
    {
      "cell_type": "raw",
      "id": "16d24fac",
      "metadata": {},
      "source": [
        "Plot the dataset to see the modification"
      ]
    },
    {
      "cell_type": "code",
      "execution_count": 6,
      "id": "b8bb7ead",
      "metadata": {},
      "outputs": [
        {
          "data": {
            "text/html": [
              "<div>\n",
              "<style scoped>\n",
              "    .dataframe tbody tr th:only-of-type {\n",
              "        vertical-align: middle;\n",
              "    }\n",
              "\n",
              "    .dataframe tbody tr th {\n",
              "        vertical-align: top;\n",
              "    }\n",
              "\n",
              "    .dataframe thead th {\n",
              "        text-align: right;\n",
              "    }\n",
              "</style>\n",
              "<table border=\"1\" class=\"dataframe\">\n",
              "  <thead>\n",
              "    <tr style=\"text-align: right;\">\n",
              "      <th></th>\n",
              "      <th>Unnamed: 0</th>\n",
              "      <th>Pregnancies</th>\n",
              "      <th>Glucose</th>\n",
              "      <th>BloodPressure</th>\n",
              "      <th>SkinThickness</th>\n",
              "      <th>Insulin</th>\n",
              "      <th>BMI</th>\n",
              "      <th>DiabetesPedigreeFunction</th>\n",
              "      <th>Age</th>\n",
              "      <th>Outcome</th>\n",
              "      <th>AgeCategory</th>\n",
              "    </tr>\n",
              "  </thead>\n",
              "  <tbody>\n",
              "    <tr>\n",
              "      <th>0</th>\n",
              "      <td>0</td>\n",
              "      <td>6.0</td>\n",
              "      <td>148</td>\n",
              "      <td>72.0</td>\n",
              "      <td>35.0</td>\n",
              "      <td>30.5</td>\n",
              "      <td>33.6</td>\n",
              "      <td>0.627</td>\n",
              "      <td>50.0</td>\n",
              "      <td>1</td>\n",
              "      <td>Adult</td>\n",
              "    </tr>\n",
              "    <tr>\n",
              "      <th>1</th>\n",
              "      <td>1</td>\n",
              "      <td>1.0</td>\n",
              "      <td>85</td>\n",
              "      <td>66.0</td>\n",
              "      <td>29.0</td>\n",
              "      <td>30.5</td>\n",
              "      <td>26.6</td>\n",
              "      <td>0.351</td>\n",
              "      <td>31.0</td>\n",
              "      <td>0</td>\n",
              "      <td>Adult</td>\n",
              "    </tr>\n",
              "    <tr>\n",
              "      <th>2</th>\n",
              "      <td>2</td>\n",
              "      <td>8.0</td>\n",
              "      <td>183</td>\n",
              "      <td>64.0</td>\n",
              "      <td>23.0</td>\n",
              "      <td>30.5</td>\n",
              "      <td>23.3</td>\n",
              "      <td>0.672</td>\n",
              "      <td>32.0</td>\n",
              "      <td>1</td>\n",
              "      <td>Adult</td>\n",
              "    </tr>\n",
              "    <tr>\n",
              "      <th>3</th>\n",
              "      <td>3</td>\n",
              "      <td>1.0</td>\n",
              "      <td>89</td>\n",
              "      <td>66.0</td>\n",
              "      <td>23.0</td>\n",
              "      <td>94.0</td>\n",
              "      <td>28.1</td>\n",
              "      <td>0.167</td>\n",
              "      <td>21.0</td>\n",
              "      <td>0</td>\n",
              "      <td>Young</td>\n",
              "    </tr>\n",
              "    <tr>\n",
              "      <th>4</th>\n",
              "      <td>4</td>\n",
              "      <td>0.0</td>\n",
              "      <td>137</td>\n",
              "      <td>40.0</td>\n",
              "      <td>35.0</td>\n",
              "      <td>168.0</td>\n",
              "      <td>43.1</td>\n",
              "      <td>0.374</td>\n",
              "      <td>33.0</td>\n",
              "      <td>1</td>\n",
              "      <td>Adult</td>\n",
              "    </tr>\n",
              "  </tbody>\n",
              "</table>\n",
              "</div>"
            ],
            "text/plain": [
              "   Unnamed: 0  Pregnancies  Glucose  BloodPressure  SkinThickness  Insulin  \\\n",
              "0           0          6.0      148           72.0           35.0     30.5   \n",
              "1           1          1.0       85           66.0           29.0     30.5   \n",
              "2           2          8.0      183           64.0           23.0     30.5   \n",
              "3           3          1.0       89           66.0           23.0     94.0   \n",
              "4           4          0.0      137           40.0           35.0    168.0   \n",
              "\n",
              "    BMI  DiabetesPedigreeFunction   Age  Outcome AgeCategory  \n",
              "0  33.6                     0.627  50.0        1       Adult  \n",
              "1  26.6                     0.351  31.0        0       Adult  \n",
              "2  23.3                     0.672  32.0        1       Adult  \n",
              "3  28.1                     0.167  21.0        0       Young  \n",
              "4  43.1                     0.374  33.0        1       Adult  "
            ]
          },
          "execution_count": 6,
          "metadata": {},
          "output_type": "execute_result"
        }
      ],
      "source": [
        "df.head()"
      ]
    },
    {
      "cell_type": "markdown",
      "id": "a100ce34",
      "metadata": {},
      "source": [
        "## Density"
      ]
    },
    {
      "cell_type": "raw",
      "id": "0c5d4826",
      "metadata": {},
      "source": [
        "Density is the first metric used in order to analyze the presence of a bias. It computes simply the distribution of the protected variable as a \"count\""
      ]
    },
    {
      "cell_type": "code",
      "execution_count": 7,
      "id": "75af21f7",
      "metadata": {},
      "outputs": [],
      "source": [
        "def visualize_att_dist(_data, _att, _category=False):\n",
        "    plt.figure(figsize=[12,5], dpi=100)\n",
        "    sns.set(style=\"darkgrid\")  \n",
        "    sns.set(font_scale = 1.5)\n",
        "    if _category: # for categorical attribute\n",
        "        vis_data = _data[_att].value_counts()\n",
        "        ax = sns.barplot(x=vis_data.index, y=vis_data.values);\n",
        "        ax.set_xlabel(_att)\n",
        "        if len(vis_data) >= 5:\n",
        "            ax.set_xticklabels(ax.get_xticklabels(), rotation=45)\n",
        "    else:\n",
        "        ax = sns.distplot(_data[_att], kde=False, color='steelblue');\n",
        "    ax.set_ylabel(\"Count\")\n",
        "    plt.tight_layout()"
      ]
    },
    {
      "cell_type": "code",
      "execution_count": 8,
      "id": "5d5326dd",
      "metadata": {},
      "outputs": [
        {
          "data": {
            "image/png": "[encoded data removed]",
            "text/plain": [
              "<Figure size 1200x500 with 1 Axes>"
            ]
          },
          "metadata": {},
          "output_type": "display_data"
        }
      ],
      "source": [
        "visualize_att_dist(df, \"AgeCategory\", _category=True)"
      ]
    },
    {
      "cell_type": "raw",
      "id": "f2d80bc8",
      "metadata": {},
      "source": [
        "As you can see from the graph, the number of \"Adult\" is greater then \"Young\". This indicate the possibility to have a bias towards \"Young\" patients, since we don't have as much information as \"Adult\""
      ]
    },
    {
      "cell_type": "raw",
      "id": "84304fe9",
      "metadata": {},
      "source": [
        "In order to use AIF360, we need first of all to convert all categorical variable into numerical variable. For this reason we replace Adult with number 1, and Young with number 0. "
      ]
    },
    {
      "cell_type": "code",
      "execution_count": 9,
      "id": "f0478bc4",
      "metadata": {},
      "outputs": [],
      "source": [
        "df=df.replace({\"Adult\":1})"
      ]
    },
    {
      "cell_type": "code",
      "execution_count": 10,
      "id": "c5f4cd55",
      "metadata": {},
      "outputs": [],
      "source": [
        "df=df.replace({\"Young\":0})"
      ]
    },
    {
      "cell_type": "raw",
      "id": "fbf0f5cd",
      "metadata": {},
      "source": [
        "We create an alternative dataset df1, in order to mantain the original dataset untouched."
      ]
    },
    {
      "cell_type": "code",
      "execution_count": 11,
      "id": "478b5788",
      "metadata": {},
      "outputs": [],
      "source": [
        "df1=df.copy()"
      ]
    },
    {
      "cell_type": "raw",
      "id": "8dc1adb4",
      "metadata": {},
      "source": [
        "In order to compute the metrics we need to use a class of AIF360 called BinaryLabelDataset. It simply re-model the dataset in order to compute the metrics needed to indetify a Bias. \n",
        "It requires the following setting\n",
        "favorable_label:1(Adult). Look at the density in order to decide which is the favorable label\n",
        "unfavorable_label:0(Young)\n",
        "df=dataset\n",
        "label_names=name of the target variable(as a list)\n",
        "protected_attributes_names=name of the protected attribute(as a list)"
      ]
    },
    {
      "cell_type": "code",
      "execution_count": 12,
      "id": "a3423352",
      "metadata": {},
      "outputs": [],
      "source": [
        "data_orig_age = BinaryLabelDataset(\n",
        "    favorable_label=1, \n",
        "    unfavorable_label=0,\n",
        "    df=df1, \n",
        "    label_names=['Outcome'], \n",
        "    protected_attribute_names=['AgeCategory'])"
      ]
    },
    {
      "cell_type": "raw",
      "id": "f78d3583",
      "metadata": {},
      "source": [
        "Split the dataset in train and test set "
      ]
    },
    {
      "cell_type": "code",
      "execution_count": 13,
      "id": "ec945185",
      "metadata": {},
      "outputs": [
        {
          "data": {
            "text/markdown": [
              "#### Train Dataset shape"
            ],
            "text/plain": [
              "<IPython.core.display.Markdown object>"
            ]
          },
          "metadata": {},
          "output_type": "display_data"
        },
        {
          "name": "stdout",
          "output_type": "stream",
          "text": [
            "Age : (534, 10)\n"
          ]
        },
        {
          "data": {
            "text/markdown": [
              "#### Test Dataset shape"
            ],
            "text/plain": [
              "<IPython.core.display.Markdown object>"
            ]
          },
          "metadata": {},
          "output_type": "display_data"
        },
        {
          "name": "stdout",
          "output_type": "stream",
          "text": [
            "Age : (229, 10)\n"
          ]
        }
      ],
      "source": [
        "np.random.seed(42)\n",
        "\n",
        "data_orig_age_train, data_orig_age_test = data_orig_age.split([0.7], shuffle=True)\n",
        "\n",
        "display(Markdown(\"#### Train Dataset shape\"))\n",
        "print(\"Age :\",data_orig_age_train.features.shape)\n",
        "display(Markdown(\"#### Test Dataset shape\"))\n",
        "print(\"Age :\",data_orig_age_test.features.shape)"
      ]
    },
    {
      "cell_type": "raw",
      "id": "91c02a41",
      "metadata": {},
      "source": [
        "Use a model in order to start the training phase. In this case it has been chosen a Random Forest."
      ]
    },
    {
      "cell_type": "code",
      "execution_count": 14,
      "id": "5ddf384e",
      "metadata": {},
      "outputs": [],
      "source": [
        "rf_orig_age = RandomForestClassifier().fit(data_orig_age_train.features, \n",
        "                     data_orig_age_train.labels.ravel(), \n",
        "                     sample_weight=data_orig_age_train.instance_weights)"
      ]
    },
    {
      "cell_type": "code",
      "execution_count": 15,
      "id": "8f206a87",
      "metadata": {},
      "outputs": [],
      "source": [
        "X_test_age = data_orig_age_test.features\n",
        "y_test_age = data_orig_age_test.labels.ravel()"
      ]
    },
    {
      "cell_type": "raw",
      "id": "b1706390",
      "metadata": {},
      "source": [
        "The following function computes the metrics used in AIF360"
      ]
    },
    {
      "cell_type": "code",
      "execution_count": 16,
      "id": "854b5e39",
      "metadata": {},
      "outputs": [],
      "source": [
        "def fair_metrics(dataset, pred, pred_is_dataset=False):\n",
        "    if pred_is_dataset:\n",
        "        dataset_pred = pred\n",
        "    else:\n",
        "        dataset_pred = dataset.copy()\n",
        "        dataset_pred.labels = pred\n",
        "    \n",
        "    cols = ['statistical_parity_difference', 'equal_opportunity_difference', 'average_abs_odds_difference',  'disparate_impact', 'theil_index']\n",
        "    obj_fairness = [[0,0,0,1,0]]\n",
        "    \n",
        "    fair_metrics = pd.DataFrame(data=obj_fairness, index=['objective'], columns=cols)\n",
        "    \n",
        "    for attr in dataset_pred.protected_attribute_names:\n",
        "        idx = dataset_pred.protected_attribute_names.index(attr)\n",
        "        privileged_groups =  [{attr:dataset_pred.privileged_protected_attributes[idx][0]}] \n",
        "        unprivileged_groups = [{attr:dataset_pred.unprivileged_protected_attributes[idx][0]}] \n",
        "        \n",
        "        classified_metric = ClassificationMetric(dataset, \n",
        "                                                     dataset_pred,\n",
        "                                                     unprivileged_groups=unprivileged_groups,\n",
        "                                                     privileged_groups=privileged_groups)\n",
        "\n",
        "        metric_pred = BinaryLabelDatasetMetric(dataset_pred,\n",
        "                                                     unprivileged_groups=unprivileged_groups,\n",
        "                                                     privileged_groups=privileged_groups)\n",
        "\n",
        "        acc = classified_metric.accuracy()\n",
        "\n",
        "        row = pd.DataFrame([[metric_pred.mean_difference(),\n",
        "                                classified_metric.equal_opportunity_difference(),\n",
        "                                classified_metric.average_abs_odds_difference(),\n",
        "                                metric_pred.disparate_impact(),\n",
        "                                classified_metric.theil_index()]],\n",
        "                           columns  = cols,\n",
        "                           index = [attr]\n",
        "                          )\n",
        "        fair_metrics = fair_metrics.append(row)    \n",
        "    \n",
        "    fair_metrics = fair_metrics.replace([-np.inf, np.inf], 2)\n",
        "        \n",
        "    return fair_metrics\n",
        "\n",
        "def plot_fair_metrics(fair_metrics):\n",
        "    fig, ax = plt.subplots(figsize=(20,4), ncols=5, nrows=1)\n",
        "\n",
        "    plt.subplots_adjust(\n",
        "        left    =  0.125, \n",
        "        bottom  =  0.1, \n",
        "        right   =  0.9, \n",
        "        top     =  0.9, \n",
        "        wspace  =  .5, \n",
        "        hspace  =  1.1\n",
        "    )\n",
        "\n",
        "    y_title_margin = 1.2\n",
        "\n",
        "    plt.suptitle(\"Fairness metrics\", y = 1.09, fontsize=20)\n",
        "    sns.set(style=\"dark\")\n",
        "\n",
        "    cols = fair_metrics.columns.values\n",
        "    obj = fair_metrics.loc['objective']\n",
        "    size_rect = [0.2,0.2,0.2,0.4,0.25]\n",
        "    rect = [-0.1,-0.1,-0.1,0.8,0]\n",
        "    bottom = [-1,-1,-1,0,0]\n",
        "    top = [1,1,1,2,1]\n",
        "    bound = [[-0.1,0.1],[-0.1,0.1],[-0.1,0.1],[0.8,1.2],[0,0.25]]\n",
        "\n",
        "    display(Markdown(\"### Check bias metrics :\"))\n",
        "    display(Markdown(\"A model can be considered bias if just one of these five metrics show that this model is biased.\"))\n",
        "    for attr in fair_metrics.index[1:len(fair_metrics)].values:\n",
        "        display(Markdown(\"#### For the %s attribute :\"%attr))\n",
        "        check = [bound[i][0] < fair_metrics.loc[attr][i] < bound[i][1] for i in range(0,5)]\n",
        "        display(Markdown(\"With default thresholds, bias against unprivileged group detected in **%d** out of 5 metrics\"%(5 - sum(check))))\n",
        "\n",
        "    for i in range(0,5):\n",
        "        plt.subplot(1, 5, i+1)\n",
        "        ax = sns.barplot(x=fair_metrics.index[1:len(fair_metrics)], y=fair_metrics.iloc[1:len(fair_metrics)][cols[i]])\n",
        "        \n",
        "        for j in range(0,len(fair_metrics)-1):\n",
        "            a, val = ax.patches[j], fair_metrics.iloc[j+1][cols[i]]\n",
        "            marg = -0.2 if val < 0 else 0.1\n",
        "            ax.text(a.get_x()+a.get_width()/5, a.get_y()+a.get_height()+marg, round(val, 3), fontsize=15,color='black')\n",
        "\n",
        "        plt.ylim(bottom[i], top[i])\n",
        "        plt.setp(ax.patches, linewidth=0)\n",
        "        ax.add_patch(patches.Rectangle((-5,rect[i]), 10, size_rect[i], alpha=0.3, facecolor=\"green\", linewidth=1, linestyle='solid'))\n",
        "        plt.axhline(obj[i], color='black', alpha=0.3)\n",
        "        plt.title(cols[i])\n",
        "        ax.set_ylabel('')    \n",
        "        ax.set_xlabel('')"
      ]
    },
    {
      "cell_type": "markdown",
      "id": "ce0d4bbb",
      "metadata": {},
      "source": [
        "This function plot the metrics of AIF360"
      ]
    },
    {
      "cell_type": "code",
      "execution_count": 17,
      "id": "dddae0b4",
      "metadata": {},
      "outputs": [],
      "source": [
        "def get_fair_metrics_and_plot(data, model, plot=True, model_aif=False):\n",
        "    pred = model.predict(data).labels if model_aif else model.predict(data.features)\n",
        "    # fair_metrics function available in the metrics.py file\n",
        "    fair = fair_metrics(data, pred)\n",
        "\n",
        "    if plot:\n",
        "        # plot_fair_metrics function available in the visualisations.py file\n",
        "        # The visualisation of this function is inspired by the dashboard on the demo of IBM aif360 \n",
        "        plot_fair_metrics(fair)\n",
        "        display(fair)\n",
        "    \n",
        "    return fair"
      ]
    },
    {
      "cell_type": "raw",
      "id": "dc10a507",
      "metadata": {},
      "source": [
        "Input to give in order to compute the metrics: 1) Test Dataset 2) Model on which the dataset has been trained"
      ]
    },
    {
      "cell_type": "code",
      "execution_count": 18,
      "id": "7bc2a99b",
      "metadata": {},
      "outputs": [
        {
          "data": {
            "text/markdown": [
              "### Bias metrics for the Sex model"
            ],
            "text/plain": [
              "<IPython.core.display.Markdown object>"
            ]
          },
          "metadata": {},
          "output_type": "display_data"
        },
        {
          "name": "stderr",
          "output_type": "stream",
          "text": [
            "/var/folders/j9/h674cmkj05lfv8z1nlwh_dk40000gn/T/ipykernel_2715/2902889714.py:37: FutureWarning:\n",
            "\n",
            "The frame.append method is deprecated and will be removed from pandas in a future version. Use pandas.concat instead.\n",
            "\n"
          ]
        },
        {
          "data": {
            "text/markdown": [
              "### Check bias metrics :"
            ],
            "text/plain": [
              "<IPython.core.display.Markdown object>"
            ]
          },
          "metadata": {},
          "output_type": "display_data"
        },
        {
          "data": {
            "text/markdown": [
              "A model can be considered bias if just one of these five metrics show that this model is biased."
            ],
            "text/plain": [
              "<IPython.core.display.Markdown object>"
            ]
          },
          "metadata": {},
          "output_type": "display_data"
        },
        {
          "data": {
            "text/markdown": [
              "#### For the AgeCategory attribute :"
            ],
            "text/plain": [
              "<IPython.core.display.Markdown object>"
            ]
          },
          "metadata": {},
          "output_type": "display_data"
        },
        {
          "data": {
            "text/markdown": [
              "With default thresholds, bias against unprivileged group detected in **4** out of 5 metrics"
            ],
            "text/plain": [
              "<IPython.core.display.Markdown object>"
            ]
          },
          "metadata": {},
          "output_type": "display_data"
        },
        {
          "data": {
            "text/html": [
              "<div>\n",
              "<style scoped>\n",
              "    .dataframe tbody tr th:only-of-type {\n",
              "        vertical-align: middle;\n",
              "    }\n",
              "\n",
              "    .dataframe tbody tr th {\n",
              "        vertical-align: top;\n",
              "    }\n",
              "\n",
              "    .dataframe thead th {\n",
              "        text-align: right;\n",
              "    }\n",
              "</style>\n",
              "<table border=\"1\" class=\"dataframe\">\n",
              "  <thead>\n",
              "    <tr style=\"text-align: right;\">\n",
              "      <th></th>\n",
              "      <th>statistical_parity_difference</th>\n",
              "      <th>equal_opportunity_difference</th>\n",
              "      <th>average_abs_odds_difference</th>\n",
              "      <th>disparate_impact</th>\n",
              "      <th>theil_index</th>\n",
              "    </tr>\n",
              "  </thead>\n",
              "  <tbody>\n",
              "    <tr>\n",
              "      <th>objective</th>\n",
              "      <td>0.000000</td>\n",
              "      <td>0.000000</td>\n",
              "      <td>0.000000</td>\n",
              "      <td>1.000000</td>\n",
              "      <td>0.000000</td>\n",
              "    </tr>\n",
              "    <tr>\n",
              "      <th>AgeCategory</th>\n",
              "      <td>-0.377858</td>\n",
              "      <td>-0.484848</td>\n",
              "      <td>0.368333</td>\n",
              "      <td>0.107378</td>\n",
              "      <td>0.179769</td>\n",
              "    </tr>\n",
              "  </tbody>\n",
              "</table>\n",
              "</div>"
            ],
            "text/plain": [
              "             statistical_parity_difference  equal_opportunity_difference  \\\n",
              "objective                         0.000000                      0.000000   \n",
              "AgeCategory                      -0.377858                     -0.484848   \n",
              "\n",
              "             average_abs_odds_difference  disparate_impact  theil_index  \n",
              "objective                       0.000000          1.000000     0.000000  \n",
              "AgeCategory                     0.368333          0.107378     0.179769  "
            ]
          },
          "metadata": {},
          "output_type": "display_data"
        },
        {
          "data": {
            "image/png": "[encoded data removed]",
            "text/plain": [
              "<Figure size 2000x400 with 5 Axes>"
            ]
          },
          "metadata": {},
          "output_type": "display_data"
        }
      ],
      "source": [
        "display(Markdown('### Bias metrics for the Sex model'))\n",
        "fair = get_fair_metrics_and_plot(data_orig_age_test, rf_orig_age)"
      ]
    },
    {
      "cell_type": "raw",
      "id": "1222ef7e",
      "metadata": {},
      "source": [
        "Here there is a brief description of the metrics calculated:\n",
        "- Statistical Parity:Computed as the difference of the rate of favorable outcomes received by the unprivileged group to the privileged group. The ideal value of this metric is 0. Fairness for this metric is between -0.1 and 0.1 \n",
        "\n",
        "- Equal Opportunity: his metric is computed as the difference of true positive rates between the unprivileged and the privileged groups. The true positive rate is the ratio of true positives to the total number of actual positives for a given group. The ideal value is 0. A value of < 0 implies higher benefit for the privileged group and a value > 0 implies higher benefit for the unprivileged group. Fairness for this metric is between -0.1 and 0.1\n",
        "\n",
        "- Average Absolute Odds Difference: Computed as average difference of false positive rate (false positives / negatives) and true positive rate (true positives / positives) between unprivileged and privileged groups. The ideal value of this metric is 0. A value of < 0 implies higher benefit for the privileged group and a value > 0 implies higher benefit for the unprivileged group.\n",
        "Fairness for this metric is between -0.1 and 0.1\n",
        "\n",
        "- Disparate Impact: Computed as the ratio of rate of favorable outcome for the unprivileged group to that of the privileged group. The ideal value of this metric is 1.0 A value < 1 implies higher benefit for the privileged group and a value >1 implies a higher benefit for the unprivileged group. Fairness for this metric is between 0.8 and 1.25\n",
        "\n",
        "-Theil Index: Computed as the generalized entropy of benefit for all individuals in the dataset, with alpha = 1. It measures the inequality in benefit allocation for individuals. A value of 0 implies perfect fairness. Fairness is indicated by lower scores, higher scores are problematic"
      ]
    }
  ],
  "metadata": {
    "kernelspec": {
      "display_name": "TisProjectFramework",
      "language": "python",
      "name": "python3"
    },
    "language_info": {
      "codemirror_mode": {
        "name": "ipython",
        "version": 3
      },
      "file_extension": ".py",
      "mimetype": "text/x-python",
      "name": "python",
      "nbconvert_exporter": "python",
      "pygments_lexer": "ipython3",
      "version": "3.9.6"
    },
    "vscode": {
      "interpreter": {
        "hash": "06459a45776c3d3480cea5dc1497ee6ddc1b984aad2f42dd2608694b6335a33e"
      }
    }
  },
  "nbformat": 4,
  "nbformat_minor": 5
}
